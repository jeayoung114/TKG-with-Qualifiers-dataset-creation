{
 "cells": [
  {
   "cell_type": "code",
   "execution_count": 6,
   "id": "e9b8ee72",
   "metadata": {},
   "outputs": [
    {
     "data": {
      "text/plain": [
       "Counter({6: 280678,\n",
       "         10: 59162,\n",
       "         8: 124833,\n",
       "         14: 5968,\n",
       "         4: 46390,\n",
       "         12: 14816,\n",
       "         20: 1233,\n",
       "         16: 2631,\n",
       "         18: 1048,\n",
       "         84: 211,\n",
       "         34: 450,\n",
       "         22: 262,\n",
       "         28: 215,\n",
       "         26: 101,\n",
       "         46: 36,\n",
       "         32: 102,\n",
       "         24: 157,\n",
       "         36: 64,\n",
       "         48: 35,\n",
       "         52: 22,\n",
       "         30: 81,\n",
       "         86: 43,\n",
       "         42: 46,\n",
       "         74: 67,\n",
       "         38: 104,\n",
       "         68: 40,\n",
       "         60: 27,\n",
       "         58: 48,\n",
       "         62: 35,\n",
       "         64: 24,\n",
       "         72: 76,\n",
       "         40: 18,\n",
       "         98: 28,\n",
       "         184: 26,\n",
       "         50: 78,\n",
       "         70: 36,\n",
       "         78: 16,\n",
       "         56: 13,\n",
       "         44: 33,\n",
       "         116: 11,\n",
       "         130: 3,\n",
       "         54: 7,\n",
       "         100: 4,\n",
       "         110: 4,\n",
       "         112: 4})"
      ]
     },
     "execution_count": 6,
     "metadata": {},
     "output_type": "execute_result"
    }
   ],
   "source": [
    "with open('train.txt', 'r') as f:\n",
    "    data = f.read()\n",
    "\n",
    "data = [i.split(\"\\t\") for i in data.split(\"\\n\")[:-1]]\n",
    "\n",
    "\n",
    "import pandas as pd\n",
    "\n",
    "from collections import Counter\n",
    "\n",
    "Counter([len(i) for i in data])"
   ]
  },
  {
   "cell_type": "code",
   "execution_count": 7,
   "id": "1a906ba2",
   "metadata": {},
   "outputs": [
    {
     "data": {
      "text/plain": [
       "539286"
      ]
     },
     "execution_count": 7,
     "metadata": {},
     "output_type": "execute_result"
    }
   ],
   "source": [
    "len(data)"
   ]
  },
  {
   "cell_type": "code",
   "execution_count": 3,
   "id": "618ab9a8",
   "metadata": {},
   "outputs": [
    {
     "name": "stdout",
     "output_type": "stream",
     "text": [
      "['576', '27', '18600', '0', '2', '1974-01-01T00:00:00Z', '32', '12837', '3', '6713']\n"
     ]
    }
   ],
   "source": [
    "for row in data[10:]:\n",
    "    print(row)\n",
    "    break"
   ]
  },
  {
   "cell_type": "code",
   "execution_count": 4,
   "id": "7d0871a1",
   "metadata": {},
   "outputs": [
    {
     "name": "stdout",
     "output_type": "stream",
     "text": [
      "#sub :  7674\n",
      "#obj :  5340\n",
      "#rel :  24\n",
      "#ent :  12435\n",
      "#qk :  89\n",
      "#qv :  12243\n",
      "#time :  232\n"
     ]
    }
   ],
   "source": [
    "count = 0\n",
    "subject = set()\n",
    "obj = set()\n",
    "relation = set()\n",
    "entity = set()\n",
    "qk = set()\n",
    "qv = set()\n",
    "time = set()\n",
    "for row in data:\n",
    "    subject.add(row[0])\n",
    "    entity.add(row[0])\n",
    "    relation.add(row[1])\n",
    "    obj.add(row[2])\n",
    "    entity.add(row[2])\n",
    "    time.add(row[3])\n",
    "    \n",
    "    for idx, i in enumerate(row[4:]):\n",
    "        if idx%2 == 0:\n",
    "            qk.add(i)\n",
    "        else:\n",
    "            qv.add(i)\n",
    "            count +=1\n",
    "        \n",
    "print(\"#sub : \", len(subject))\n",
    "print(\"#obj : \", len(obj))\n",
    "print(\"#rel : \", len(relation))\n",
    "print(\"#ent : \", len(entity))\n",
    "print(\"#qk : \", len(qk))\n",
    "print(\"#qv : \", len(qv))\n",
    "print(\"#time : \", len(time))\n",
    "    \n",
    "    "
   ]
  },
  {
   "cell_type": "code",
   "execution_count": 5,
   "id": "53abeafb",
   "metadata": {},
   "outputs": [
    {
     "data": {
      "text/plain": [
       "1.7305446962606708"
      ]
     },
     "execution_count": 5,
     "metadata": {},
     "output_type": "execute_result"
    }
   ],
   "source": [
    "count/len(data)"
   ]
  },
  {
   "cell_type": "code",
   "execution_count": null,
   "id": "13b1bd65",
   "metadata": {},
   "outputs": [],
   "source": []
  }
 ],
 "metadata": {
  "kernelspec": {
   "display_name": "Python 3",
   "language": "python",
   "name": "python3"
  },
  "language_info": {
   "codemirror_mode": {
    "name": "ipython",
    "version": 3
   },
   "file_extension": ".py",
   "mimetype": "text/x-python",
   "name": "python",
   "nbconvert_exporter": "python",
   "pygments_lexer": "ipython3",
   "version": "3.7.7"
  }
 },
 "nbformat": 4,
 "nbformat_minor": 5
}

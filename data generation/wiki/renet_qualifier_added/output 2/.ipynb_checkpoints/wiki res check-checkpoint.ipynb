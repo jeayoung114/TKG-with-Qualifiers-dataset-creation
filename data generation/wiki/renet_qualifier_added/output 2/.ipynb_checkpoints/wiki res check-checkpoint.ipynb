{
 "cells": [
  {
   "cell_type": "code",
   "execution_count": 14,
   "id": "e9b8ee72",
   "metadata": {},
   "outputs": [
    {
     "data": {
      "text/plain": [
       "Counter({4: 52358,\n",
       "         6: 5514,\n",
       "         8: 1837,\n",
       "         14: 1609,\n",
       "         10: 484,\n",
       "         26: 83,\n",
       "         28: 66,\n",
       "         16: 130,\n",
       "         42: 20,\n",
       "         32: 11,\n",
       "         18: 150,\n",
       "         20: 104,\n",
       "         12: 381,\n",
       "         36: 20,\n",
       "         30: 68,\n",
       "         22: 113,\n",
       "         24: 94,\n",
       "         40: 14,\n",
       "         38: 1,\n",
       "         56: 5,\n",
       "         34: 12,\n",
       "         64: 18,\n",
       "         130: 1,\n",
       "         92: 15,\n",
       "         46: 1})"
      ]
     },
     "execution_count": 14,
     "metadata": {},
     "output_type": "execute_result"
    }
   ],
   "source": [
    "with open('test.txt', 'r') as f:\n",
    "    data = f.read()\n",
    "\n",
    "data = [i.split(\"\\t\") for i in data.split(\"\\n\")[:-1]]\n",
    "\n",
    "\n",
    "import pandas as pd\n",
    "\n",
    "from collections import Counter\n",
    "\n",
    "Counter([len(i) for i in data])"
   ]
  },
  {
   "cell_type": "code",
   "execution_count": 15,
   "id": "1a906ba2",
   "metadata": {},
   "outputs": [
    {
     "data": {
      "text/plain": [
       "63109"
      ]
     },
     "execution_count": 15,
     "metadata": {},
     "output_type": "execute_result"
    }
   ],
   "source": [
    "len(data)"
   ]
  },
  {
   "cell_type": "code",
   "execution_count": 9,
   "id": "618ab9a8",
   "metadata": {},
   "outputs": [
    {
     "name": "stdout",
     "output_type": "stream",
     "text": [
      "['4425', '50', '12967', '0', '71', '14124', '91', '2027']\n"
     ]
    }
   ],
   "source": [
    "for row in data[10:]:\n",
    "    print(row)\n",
    "    break"
   ]
  },
  {
   "cell_type": "code",
   "execution_count": 10,
   "id": "7d0871a1",
   "metadata": {},
   "outputs": [
    {
     "name": "stdout",
     "output_type": "stream",
     "text": [
      "#sub :  5538\n",
      "#obj :  3884\n",
      "#rel :  24\n",
      "#ent :  9009\n",
      "#qk :  77\n",
      "#qv :  4704\n",
      "#time :  211\n"
     ]
    }
   ],
   "source": [
    "count = 0\n",
    "subject = set()\n",
    "obj = set()\n",
    "relation = set()\n",
    "entity = set()\n",
    "qk = set()\n",
    "qv = set()\n",
    "time = set()\n",
    "for row in data:\n",
    "    subject.add(row[0])\n",
    "    entity.add(row[0])\n",
    "    relation.add(row[1])\n",
    "    obj.add(row[2])\n",
    "    entity.add(row[2])\n",
    "    time.add(row[3])\n",
    "    \n",
    "    for idx, i in enumerate(row[4:]):\n",
    "        if idx%2 == 0:\n",
    "            qk.add(i)\n",
    "        else:\n",
    "            qv.add(i)\n",
    "            count +=1\n",
    "        \n",
    "print(\"#sub : \", len(subject))\n",
    "print(\"#obj : \", len(obj))\n",
    "print(\"#rel : \", len(relation))\n",
    "print(\"#ent : \", len(entity))\n",
    "print(\"#qk : \", len(qk))\n",
    "print(\"#qv : \", len(qv))\n",
    "print(\"#time : \", len(time))\n",
    "    \n",
    "    "
   ]
  },
  {
   "cell_type": "code",
   "execution_count": 7,
   "id": "53abeafb",
   "metadata": {},
   "outputs": [
    {
     "data": {
      "text/plain": [
       "0.273830368111438"
      ]
     },
     "execution_count": 7,
     "metadata": {},
     "output_type": "execute_result"
    }
   ],
   "source": [
    "count/len(data)"
   ]
  },
  {
   "cell_type": "code",
   "execution_count": null,
   "id": "13b1bd65",
   "metadata": {},
   "outputs": [],
   "source": []
  }
 ],
 "metadata": {
  "kernelspec": {
   "display_name": "Python 3",
   "language": "python",
   "name": "python3"
  },
  "language_info": {
   "codemirror_mode": {
    "name": "ipython",
    "version": 3
   },
   "file_extension": ".py",
   "mimetype": "text/x-python",
   "name": "python",
   "nbconvert_exporter": "python",
   "pygments_lexer": "ipython3",
   "version": "3.7.7"
  }
 },
 "nbformat": 4,
 "nbformat_minor": 5
}

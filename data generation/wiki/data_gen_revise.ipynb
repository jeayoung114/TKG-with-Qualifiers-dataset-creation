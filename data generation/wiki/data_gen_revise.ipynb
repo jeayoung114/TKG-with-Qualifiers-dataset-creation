{
 "cells": [
  {
   "cell_type": "code",
   "execution_count": 1,
   "id": "bb1670be",
   "metadata": {},
   "outputs": [
    {
     "name": "stdout",
     "output_type": "stream",
     "text": [
      "data_gen.ipynb         \u001b[1m\u001b[36moriginal data\u001b[m\u001b[m/         wiki+description.zip\r\n",
      "data_gen_revise.ipynb  \u001b[1m\u001b[36moutput\u001b[m\u001b[m/                wiki.zip\r\n"
     ]
    }
   ],
   "source": [
    "ls"
   ]
  },
  {
   "cell_type": "code",
   "execution_count": 6,
   "id": "97ff91b0",
   "metadata": {},
   "outputs": [],
   "source": [
    "data_dir = \"output/\"\n",
    "with open(data_dir + \"whole_data.txt\", 'r') as f:\n",
    "    data  = f.read()"
   ]
  },
  {
   "cell_type": "code",
   "execution_count": 7,
   "id": "919b5e0c",
   "metadata": {},
   "outputs": [],
   "source": [
    "data = data.split(\"\\n\")\n",
    "data = [i.split(\"\\t\") for i in data]"
   ]
  },
  {
   "cell_type": "code",
   "execution_count": 10,
   "id": "955ceb7f",
   "metadata": {},
   "outputs": [],
   "source": [
    "data = data[:-1]"
   ]
  },
  {
   "cell_type": "code",
   "execution_count": 13,
   "id": "4dea031e",
   "metadata": {},
   "outputs": [],
   "source": [
    "train = open(data_dir + \"train.txt\", 'w')\n",
    "valid = open(data_dir + \"valid.txt\", 'w')\n",
    "test = open(data_dir + \"test.txt\", 'w')"
   ]
  },
  {
   "cell_type": "code",
   "execution_count": 26,
   "id": "91bda3ae",
   "metadata": {},
   "outputs": [],
   "source": [
    "for row in data:\n",
    "    t = int(row[3])\n",
    "    res_string = \"\\t\".join(row)\n",
    "    res_string += \"\\n\"\n",
    "    if t < 211:\n",
    "        train.write(res_string)\n",
    "    elif t < 222:\n",
    "        valid.write(res_string)\n",
    "    else:\n",
    "        test.write(res_string)\n",
    "        \n",
    "train.close()\n",
    "valid.close()\n",
    "test.close()\n"
   ]
  },
  {
   "cell_type": "code",
   "execution_count": 25,
   "id": "49bec9a2",
   "metadata": {},
   "outputs": [
    {
     "data": {
      "text/plain": [
       "'5256\\t50\\t4446\\t0\\t71\\t2128\\t91\\t16934'"
      ]
     },
     "execution_count": 25,
     "metadata": {},
     "output_type": "execute_result"
    }
   ],
   "source": [
    "\"\\t\".join(data[1])"
   ]
  },
  {
   "cell_type": "code",
   "execution_count": 29,
   "id": "4a238857",
   "metadata": {},
   "outputs": [],
   "source": [
    "data_l = [len(i) for i in data]"
   ]
  },
  {
   "cell_type": "code",
   "execution_count": 31,
   "id": "6cad14bd",
   "metadata": {},
   "outputs": [],
   "source": [
    "from collections import Counter"
   ]
  },
  {
   "cell_type": "code",
   "execution_count": 32,
   "id": "a4af976d",
   "metadata": {},
   "outputs": [
    {
     "data": {
      "text/plain": [
       "Counter({4: 594443,\n",
       "         8: 26319,\n",
       "         10: 6109,\n",
       "         6: 31699,\n",
       "         12: 3684,\n",
       "         48: 235,\n",
       "         22: 770,\n",
       "         14: 3490,\n",
       "         16: 651,\n",
       "         18: 462,\n",
       "         20: 398,\n",
       "         26: 302,\n",
       "         52: 1,\n",
       "         24: 186,\n",
       "         28: 209,\n",
       "         50: 7,\n",
       "         30: 268,\n",
       "         32: 110,\n",
       "         36: 111,\n",
       "         54: 36,\n",
       "         92: 52,\n",
       "         34: 85,\n",
       "         40: 64,\n",
       "         46: 49,\n",
       "         42: 73,\n",
       "         44: 17,\n",
       "         64: 56,\n",
       "         38: 16,\n",
       "         130: 10,\n",
       "         56: 21})"
      ]
     },
     "execution_count": 32,
     "metadata": {},
     "output_type": "execute_result"
    }
   ],
   "source": [
    "Counter(data_l)"
   ]
  },
  {
   "cell_type": "code",
   "execution_count": null,
   "id": "736fae36",
   "metadata": {},
   "outputs": [],
   "source": []
  }
 ],
 "metadata": {
  "kernelspec": {
   "display_name": "Python 3",
   "language": "python",
   "name": "python3"
  },
  "language_info": {
   "codemirror_mode": {
    "name": "ipython",
    "version": 3
   },
   "file_extension": ".py",
   "mimetype": "text/x-python",
   "name": "python",
   "nbconvert_exporter": "python",
   "pygments_lexer": "ipython3",
   "version": "3.7.7"
  }
 },
 "nbformat": 4,
 "nbformat_minor": 5
}

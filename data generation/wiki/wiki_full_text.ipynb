{
 "cells": [
  {
   "cell_type": "code",
   "execution_count": 1,
   "id": "a0c322eb",
   "metadata": {},
   "outputs": [],
   "source": [
    "with open(\"output 2/entity2id.txt\" , 'r') as f:\n",
    "    data = f.read()"
   ]
  },
  {
   "cell_type": "code",
   "execution_count": 2,
   "id": "d1f343fe",
   "metadata": {},
   "outputs": [],
   "source": [
    "data = [i.split(\"\\t\") for i in data.split(\"\\n\")]"
   ]
  },
  {
   "cell_type": "code",
   "execution_count": 3,
   "id": "88b6f769",
   "metadata": {},
   "outputs": [],
   "source": [
    "def get_wikipedia_url_from_wikidata_id(wikidata_id, lang='en', debug=False):\n",
    "    import requests\n",
    "    from requests import utils\n",
    "\n",
    "    url = (\n",
    "        'https://www.wikidata.org/w/api.php'\n",
    "        '?action=wbgetentities'\n",
    "        '&props=sitelinks/urls'\n",
    "        f'&ids={wikidata_id}'\n",
    "        '&format=json')\n",
    "    json_response = requests.get(url).json()\n",
    "    if debug: print(wikidata_id, url, json_response) \n",
    "\n",
    "    entities = json_response.get('entities')    \n",
    "    if entities:\n",
    "        entity = entities.get(wikidata_id)\n",
    "        if entity:\n",
    "            sitelinks = entity.get('sitelinks')\n",
    "            if sitelinks:\n",
    "                if lang:\n",
    "                    # filter only the specified language\n",
    "                    sitelink = sitelinks.get(f'{lang}wiki')\n",
    "                    if sitelink:\n",
    "                        wiki_url = sitelink.get('url')\n",
    "                        if wiki_url:\n",
    "                            return requests.utils.unquote(wiki_url)\n",
    "                else:\n",
    "                    # return all of the urls\n",
    "                    wiki_urls = {}\n",
    "                    for key, sitelink in sitelinks.items():\n",
    "                        wiki_url = sitelink.get('url')\n",
    "                        if wiki_url:\n",
    "                            wiki_urls[key] = requests.utils.unquote(wiki_url)\n",
    "                    return wiki_urls\n",
    "    return None "
   ]
  },
  {
   "cell_type": "code",
   "execution_count": 4,
   "id": "fa3881eb",
   "metadata": {},
   "outputs": [
    {
     "data": {
      "text/plain": [
       "['Q208431', '0']"
      ]
     },
     "execution_count": 4,
     "metadata": {},
     "output_type": "execute_result"
    }
   ],
   "source": [
    "data[0]"
   ]
  },
  {
   "cell_type": "code",
   "execution_count": 5,
   "id": "adbac46b",
   "metadata": {},
   "outputs": [
    {
     "data": {
      "text/plain": [
       "'https://en.wikipedia.org/wiki/Argis'"
      ]
     },
     "execution_count": 5,
     "metadata": {},
     "output_type": "execute_result"
    }
   ],
   "source": [
    "get_wikipedia_url_from_wikidata_id(data[0][0])"
   ]
  },
  {
   "cell_type": "code",
   "execution_count": 90,
   "id": "9a10a2bf",
   "metadata": {},
   "outputs": [
    {
     "name": "stdout",
     "output_type": "stream",
     "text": [
      "[<p class=\"mw-empty-elt\">\n",
      "</p>, <p>The <b>Atlanta Hawks</b> are an American professional <a href=\"/wiki/Basketball\" title=\"Basketball\">basketball</a> team based in <a href=\"/wiki/Atlanta\" title=\"Atlanta\">Atlanta</a>. The Hawks compete in the <a href=\"/wiki/National_Basketball_Association\" title=\"National Basketball Association\">National Basketball Association</a> (NBA) as a member of the league's <a href=\"/wiki/Eastern_Conference_(NBA)\" title=\"Eastern Conference (NBA)\">Eastern Conference</a> <a href=\"/wiki/Southeast_Division_(NBA)\" title=\"Southeast Division (NBA)\">Southeast Division</a>. The team plays its home games at <a href=\"/wiki/State_Farm_Arena\" title=\"State Farm Arena\">State Farm Arena</a>.\n",
      "</p>, <p>The team's origins can be traced to the establishment of the <b>Buffalo Bisons</b> in 1946 in <a href=\"/wiki/Buffalo,_New_York\" title=\"Buffalo, New York\">Buffalo, New York</a>, a member of the <a href=\"/wiki/National_Basketball_League_(United_States)\" title=\"National Basketball League (United States)\">National Basketball League</a> (NBL) owned by <a href=\"/wiki/Ben_Kerner\" title=\"Ben Kerner\">Ben Kerner</a> and <a href=\"/wiki/Leo_Ferris\" title=\"Leo Ferris\">Leo Ferris</a>.<sup class=\"reference\" id=\"cite_ref-Kirst_9-0\"><a href=\"#cite_note-Kirst-9\">[9]</a></sup> After 38 days in Buffalo, the team moved to <a href=\"/wiki/Moline,_Illinois\" title=\"Moline, Illinois\">Moline, Illinois</a>, where they were renamed the <b>Tri-Cities Blackhawks</b>.<sup class=\"reference\" id=\"cite_ref-:0_10-0\"><a href=\"#cite_note-:0-10\">[10]</a></sup> In 1949, they joined the NBA as part of the merger between the NBL and the <a href=\"/wiki/Basketball_Association_of_America\" title=\"Basketball Association of America\">Basketball Association of America</a> (BAA), and briefly had <a href=\"/wiki/Red_Auerbach\" title=\"Red Auerbach\">Red Auerbach</a> as coach. In 1951, Kerner moved the team to <a href=\"/wiki/Milwaukee\" title=\"Milwaukee\">Milwaukee</a>, where they changed their name to the <b>Hawks</b>. Kerner and the team moved again in 1955 to <a href=\"/wiki/St._Louis\" title=\"St. Louis\">St. Louis</a>, where they won their only <a href=\"/wiki/1958_NBA_Finals\" title=\"1958 NBA Finals\">NBA Championship</a> in <a href=\"/wiki/1957%E2%80%9358_NBA_season\" title=\"1957–58 NBA season\">1958</a> and qualified to play in the <a href=\"/wiki/NBA_Finals\" title=\"NBA Finals\">NBA Finals</a> in 1957, 1960 and 1961. The Hawks played the <a href=\"/wiki/Boston_Celtics\" title=\"Boston Celtics\">Boston Celtics</a> in all four of their trips to the NBA Finals. The St. Louis Hawks moved to Atlanta in 1968, when Kerner sold the franchise to Thomas Cousins and former Georgia Governor <a href=\"/wiki/Carl_Sanders\" title=\"Carl Sanders\">Carl Sanders</a>.<sup class=\"reference\" id=\"cite_ref-11\"><a href=\"#cite_note-11\">[11]</a></sup><sup class=\"reference\" id=\"cite_ref-12\"><a href=\"#cite_note-12\">[12]</a></sup>\n",
      "</p>, <p>The Hawks currently own the <a href=\"/wiki/List_of_NBA_franchise_post-season_droughts\" title=\"List of NBA franchise post-season droughts\">second-longest drought</a> (behind the <a href=\"/wiki/Sacramento_Kings\" title=\"Sacramento Kings\">Sacramento Kings</a>) of not winning an NBA championship at 63 seasons. The franchise's lone NBA championship, as well as all four NBA Finals appearances, occurred when the team was based in St. Louis. Meanwhile, they went 48 years without advancing past the second round of the <a href=\"/wiki/NBA_playoffs\" title=\"NBA playoffs\">playoffs</a> in any format, until finally breaking through in 2015. However, the Hawks are one of only four NBA teams that have qualified to play in the <a href=\"/wiki/NBA_playoffs\" title=\"NBA playoffs\">NBA playoffs</a> in 10 consecutive seasons in the 21st century. They achieved this feat between 2008 and 2017.\n",
      "</p>, <p>The origins of the Atlanta Hawks can be traced to the Buffalo Bisons franchise, which was founded in 1946. The Bisons were a member of the <a href=\"/wiki/National_Basketball_League_(United_States)\" title=\"National Basketball League (United States)\">National Basketball League</a>, and played their games at the <a href=\"/wiki/Buffalo_Memorial_Auditorium\" title=\"Buffalo Memorial Auditorium\">Buffalo Memorial Auditorium</a>. The club was organized by Leo Ferris and the Erie County <a href=\"/wiki/American_Legion\" title=\"American Legion\">American Legion</a> and was coached by <a href=\"/wiki/Nat_Hickey\" title=\"Nat Hickey\">Nat Hickey</a>.<sup class=\"reference\" id=\"cite_ref-13\"><a href=\"#cite_note-13\">[13]</a></sup> Their first game – a 50–39 victory over the <a class=\"mw-redirect\" href=\"/wiki/Syracuse_Nationals\" title=\"Syracuse Nationals\">Syracuse Nationals</a> – was played on November 8, 1946. On the team was <a href=\"/wiki/Pop_Gates\" title=\"Pop Gates\">William \"Pop\" Gates</a>, who, along with <a href=\"/wiki/Dolly_King\" title=\"Dolly King\">William \"Dolly\" King</a>, was one of the first two African-American players in the NBL.<sup class=\"reference\" id=\"cite_ref-14\"><a href=\"#cite_note-14\">[14]</a></sup> The team, which needed to draw 3,600 fans per game to break even, struggled to draw 1,000 fans per game to the Auditorium. The franchise lasted only 38 days (13 games) in Buffalo when, on December 25, 1946, <a href=\"/wiki/Leo_Ferris\" title=\"Leo Ferris\">Leo Ferris</a>, the team's general manager and co-owner, announced that the team would be moving to <a href=\"/wiki/Moline,_Illinois\" title=\"Moline, Illinois\">Moline, Illinois</a>, which at that time was part of an area then known as the \"<a href=\"/wiki/Quad_Cities\" title=\"Quad Cities\">Tri-Cities</a>\": <a href=\"/wiki/Moline,_Illinois\" title=\"Moline, Illinois\">Moline, Illinois</a>, <a href=\"/wiki/Rock_Island,_Illinois\" title=\"Rock Island, Illinois\">Rock Island, Illinois</a>, and <a href=\"/wiki/Davenport,_Iowa\" title=\"Davenport, Iowa\">Davenport, Iowa</a>.<sup class=\"reference\" id=\"cite_ref-Kirst_9-1\"><a href=\"#cite_note-Kirst-9\">[9]</a></sup>\n",
      "</p>, <p>Upon relocation to Moline, the team was renamed the Tri-Cities Blackhawks, and played their home games at <a href=\"/wiki/Wharton_Field_House\" title=\"Wharton Field House\">Wharton Field House</a>, a 6,000-seat arena in Moline.<sup class=\"reference\" id=\"cite_ref-AtlantaHawksHistory_1-1\"><a href=\"#cite_note-AtlantaHawksHistory-1\">[1]</a></sup> The team featured <a class=\"mw-redirect\" href=\"/wiki/Basketball_position#Back_court\" title=\"Basketball position\">guard</a>/<a class=\"mw-redirect\" href=\"/wiki/Basketball_position#Frontcourt_(forwards_and_center)\" title=\"Basketball position\">forward</a> and coach Deanglo King, and was owned by Leo Ferris and <a href=\"/wiki/Ben_Kerner\" title=\"Ben Kerner\">Ben Kerner</a>.<sup class=\"reference\" id=\"cite_ref-:0_10-1\"><a href=\"#cite_note-:0-10\">[10]</a></sup> Pop Gates remained on the Blackhawks roster, and finished second on the team in scoring behind future 1949 <a href=\"/wiki/NBL_Most_Valuable_Player_Award\" title=\"NBL Most Valuable Player Award\">NBL MVP</a> <a href=\"/wiki/Don_Otten\" title=\"Don Otten\">Don Otten</a>. A <a class=\"mw-redirect\" href=\"/wiki/Naismith_Basketball_Hall_of_Fame\" title=\"Naismith Basketball Hall of Fame\">Naismith Basketball Hall of Fame</a> member, Gates helped to integrate the league and later became the first African-American coach in a major sports league, coaching Dayton in 1948.<sup class=\"reference\" id=\"cite_ref-15\"><a href=\"#cite_note-15\">[15]</a></sup><sup class=\"reference\" id=\"cite_ref-16\"><a href=\"#cite_note-16\">[16]</a></sup>\n",
      "</p>, <p>In 1949 the Blackhawks became one of the <a href=\"/wiki/National_Basketball_Association\" title=\"National Basketball Association\">National Basketball Association</a>'s 17 original teams after a merger of the 12-year-old NBL and the three-year-old <a href=\"/wiki/Basketball_Association_of_America\" title=\"Basketball Association of America\">Basketball Association of America</a> (BAA). They reached the <a href=\"/wiki/NBA_playoffs\" title=\"NBA playoffs\">playoffs</a> in the NBA's inaugural year under the leadership of coach <a href=\"/wiki/Red_Auerbach\" title=\"Red Auerbach\">Red Auerbach</a>. The following season, they drafted three-time All-American <a href=\"/wiki/Bob_Cousy\" title=\"Bob Cousy\">Bob Cousy</a>, but they were unable to reach a deal and traded him to the <a href=\"/wiki/Chicago_Stags\" title=\"Chicago Stags\">Chicago Stags</a> (who would later surrender him in a dispersal draft to the <a href=\"/wiki/Boston_Celtics\" title=\"Boston Celtics\">Boston Celtics</a> when the Stags folded). The Blackhawks finished last in the Western Division and missed the playoffs. By then, it was obvious that the Tri-Cities area was too small to support an NBA team. After the season, the franchise relocated to <a class=\"mw-redirect\" href=\"/wiki/Milwaukee,_Wisconsin\" title=\"Milwaukee, Wisconsin\">Milwaukee, Wisconsin</a>, and became the <b>Milwaukee Hawks</b>.\n",
      "</p>, <p>In 1954, the Hawks drafted <a href=\"/wiki/Bob_Pettit\" title=\"Bob Pettit\">Bob Pettit</a>, a future NBA MVP. Despite this, the Hawks were one of the league's worst teams, and in 1955 the Hawks moved, this time to <a href=\"/wiki/St._Louis\" title=\"St. Louis\">St. Louis</a>, <a href=\"/wiki/Missouri\" title=\"Missouri\">Missouri</a>, Milwaukee's rival in the beer industry, and became the <b>St. Louis Hawks</b>.\n",
      "</p>, <p>In 1956, the St. Louis Hawks drafted legendary <a href=\"/wiki/Bill_Russell\" title=\"Bill Russell\">Bill Russell</a> in the first round (#2 pick). They immediately traded Russell to the Boston Celtics for <a href=\"/wiki/Cliff_Hagan\" title=\"Cliff Hagan\">Cliff Hagan</a> and <a href=\"/wiki/Ed_Macauley\" title=\"Ed Macauley\">Ed Macauley</a>, both Hall of Fame members.<sup class=\"reference\" id=\"cite_ref-17\"><a href=\"#cite_note-17\">[17]</a></sup><sup class=\"reference\" id=\"cite_ref-18\"><a href=\"#cite_note-18\">[18]</a></sup><sup class=\"reference\" id=\"cite_ref-19\"><a href=\"#cite_note-19\">[19]</a></sup>\n",
      "</p>, <p>In 1957, the Hawks finished four games under .500. However, the Western Division was extremely weak that year; no team in the division had a winning record. They won the division title and a bye to the division finals after defeating the <a class=\"mw-redirect\" href=\"/wiki/Minneapolis_Lakers\" title=\"Minneapolis Lakers\">Minneapolis Lakers</a> and <a class=\"mw-redirect\" href=\"/wiki/Fort_Wayne_Pistons\" title=\"Fort Wayne Pistons\">Fort Wayne Pistons</a> in one-game tiebreakers. They then defeated the Lakers in the division finals to advance to the <a href=\"/wiki/1957_NBA_Finals\" title=\"1957 NBA Finals\">Finals</a>, losing to the <a href=\"/wiki/Boston_Celtics\" title=\"Boston Celtics\">Boston Celtics</a> in a double-overtime thriller in game seven. In 1958, after tallying their first winning record, they again advanced to the <a href=\"/wiki/1958_NBA_Finals\" title=\"1958 NBA Finals\">Finals</a>, where they avenged their defeat against the Celtics from the previous year, winning the series 4–2 and giving the Hawks their first and only NBA Championship. Bob Pettit scored 50 points in the final game of the series.\n",
      "</p>, <p>The Hawks remained one of the NBA's premier teams for the next decade. In 1960, under coach <a href=\"/wiki/Ed_Macauley\" title=\"Ed Macauley\">Ed Macauley</a>, the team advanced to <a href=\"/wiki/1960_NBA_Finals\" title=\"1960 NBA Finals\">the Finals</a>, but lost to the Celtics in another game seven thriller. The following year, with the acquisition of rookie <a href=\"/wiki/Lenny_Wilkens\" title=\"Lenny Wilkens\">Lenny Wilkens</a>, the Hawks repeated their success, but met the Celtics in the <a href=\"/wiki/1961_NBA_Finals\" title=\"1961 NBA Finals\">1961 NBA Finals</a> again and lost in five games. They would remain contenders for most of the 1960s, advancing deep into the playoffs and also capturing several division titles.\n",
      "</p>, <p>Despite the success, Kerner became weary of the Hawks' longtime home, <a href=\"/wiki/Kiel_Auditorium\" title=\"Kiel Auditorium\">Kiel Auditorium</a>. The 33-year-old arena seated only 10,000 and was starting to show its age. The Hawks occasionally played at the larger <a href=\"/wiki/St._Louis_Arena\" title=\"St. Louis Arena\">St. Louis Arena</a>, mostly against popular opponents, but Kerner was not willing to move the team there full-time because it had not been well-maintained since the 1940s. Even though it was being heavily renovated to accommodate the arrival of the <a href=\"/wiki/National_Hockey_League\" title=\"National Hockey League\">NHL</a>'s <a href=\"/wiki/St._Louis_Blues\" title=\"St. Louis Blues\">Blues</a> in 1967, Kerner was still not willing to move to the St. Louis Arena. He wanted a new arena to increase revenue. However, Kerner was rebuffed by the city on several occasions. In early 1967, Kerner briefly put the Hawks up for sale.<sup class=\"reference\" id=\"cite_ref-hwqnfsl_20-0\"><a href=\"#cite_note-hwqnfsl-20\">[20]</a></sup> One of the bidders was a New Orleans group led by <a href=\"/wiki/Morton_Downey_Jr.\" title=\"Morton Downey Jr.\">Morton Downey Jr.</a>, but the deal collapsed and Kerner temporarily took his team off the market.<sup class=\"reference\" id=\"cite_ref-21\"><a href=\"#cite_note-21\">[21]</a></sup><sup class=\"reference\" id=\"cite_ref-htoffmkt_22-0\"><a href=\"#cite_note-htoffmkt-22\">[22]</a></sup>\n",
      "</p>, <p>Unable to resolve the arena situation, Kerner sold the Hawks to Atlanta real estate developer <a href=\"/wiki/Tom_Cousins\" title=\"Tom Cousins\">Tom Cousins</a> and former <a href=\"/wiki/Governor_of_Georgia\" title=\"Governor of Georgia\">Georgia governor</a> <a href=\"/wiki/Carl_Sanders\" title=\"Carl Sanders\">Carl Sanders</a>, who moved the team to <a href=\"/wiki/Atlanta\" title=\"Atlanta\">Atlanta</a> in 1968.<sup class=\"reference\" id=\"cite_ref-23\"><a href=\"#cite_note-23\">[23]</a></sup> While a new arena was being constructed, the team spent its first four seasons playing at <a class=\"mw-redirect\" href=\"/wiki/Alexander_Memorial_Coliseum\" title=\"Alexander Memorial Coliseum\">Alexander Memorial Coliseum</a> on the campus of <a class=\"mw-redirect\" href=\"/wiki/Georgia_Institute_of_Technology\" title=\"Georgia Institute of Technology\">Georgia Tech</a>, winning their first Division title in the <a href=\"/wiki/1969%E2%80%9370_Atlanta_Hawks_season\" title=\"1969–70 Atlanta Hawks season\">1969–70 season</a> with a 48–34 (.585) record in the Western Division. Cousins' firm soon developed the <a href=\"/wiki/Omni_Coliseum\" title=\"Omni Coliseum\">Omni Coliseum</a>, a 16,500-seat, state-of-the-art downtown Atlanta arena, for the Hawks and the expansion <a href=\"/wiki/Atlanta_Flames\" title=\"Atlanta Flames\">Atlanta Flames</a> ice hockey franchise, which opened in <a href=\"/wiki/1972%E2%80%9373_Atlanta_Hawks_season\" title=\"1972–73 Atlanta Hawks season\">1972</a> as the first phase of a massive sports, office, hotel, and retail complex, most of which is now the <a href=\"/wiki/CNN_Center\" title=\"CNN Center\">CNN Center</a>. Also in 1972, the Hawks debuted a new logo and new colors, trading the green and blue color scheme that the team had used for two years, in favor of white, gold, and red, the same colors the Flames used. The hawk head silhouette inside a circle remained as the team's logo, albeit simplified.\n",
      "</p>, <p>The years after the move showcased a talented Hawks team, including <a href=\"/wiki/Pete_Maravich\" title=\"Pete Maravich\">Pete Maravich</a> and <a href=\"/wiki/Lou_Hudson\" title=\"Lou Hudson\">Lou Hudson</a>. However, after this period of success, the team experienced some years of rebuilding. Despite appearing to be moving in the right direction when they ended up with the first and third picks overall in the <a href=\"/wiki/1975_NBA_draft\" title=\"1975 NBA draft\">1975 NBA draft</a>, the players drafted with those two picks, <a href=\"/wiki/David_Thompson_(basketball)\" title=\"David Thompson (basketball)\">David Thompson</a> of North Carolina State and <a href=\"/wiki/Marvin_Webster\" title=\"Marvin Webster\">Marvin Webster</a> of Morgan State, both signed with the <a href=\"/wiki/1975%E2%80%9376_Denver_Nuggets_season\" title=\"1975–76 Denver Nuggets season\">Denver Nuggets</a> of the <a href=\"/wiki/American_Basketball_Association\" title=\"American Basketball Association\">American Basketball Association</a> (ABA) and never played for the Hawks.\n",
      "</p>, <p>Cable network entrepreneur and <a href=\"/wiki/Atlanta_Braves\" title=\"Atlanta Braves\">Atlanta Braves</a> owner <a href=\"/wiki/Ted_Turner\" title=\"Ted Turner\">Ted Turner</a> bought the team in 1977 and hired <a href=\"/wiki/Hubie_Brown\" title=\"Hubie Brown\">Hubie Brown</a> to become head coach.<sup class=\"reference\" id=\"cite_ref-24\"><a href=\"#cite_note-24\">[24]</a></sup> The Hawks were the only NBA team in the Deep South, just as the Atlanta Braves were the only <a href=\"/wiki/Major_League_Baseball\" title=\"Major League Baseball\">Major League Baseball</a> team in the region for many years to come. Turner's ownership was instrumental in keeping both teams in the region. Coach Brown won coach of the year in 1978. In the 1979–80 season, the Hawks finished with a 50–32 record and won the Central Division. It was their first division title in the Central Division and second in the city of Atlanta. The next season, the Hawks got off to a 4–0 start, then lost 13 of the next 14 games and with 3 games left in the season, the Hawks fired head coach Hubie Brown en route to the team's 31–51 record.\n",
      "</p>, <p>In 1982, the franchise acquired superstar <a href=\"/wiki/Dominique_Wilkins\" title=\"Dominique Wilkins\">Dominique Wilkins</a> and promoted <a href=\"/wiki/Mike_Fratello\" title=\"Mike Fratello\">Mike Fratello</a> to head coach a year later.<sup class=\"reference\" id=\"cite_ref-25\"><a href=\"#cite_note-25\">[25]</a></sup> Due to sagging attendance, 12 home games during the <a href=\"/wiki/1984%E2%80%9385_NBA_season\" title=\"1984–85 NBA season\">1984–85 season</a> were played at the <a href=\"/wiki/Lakefront_Arena\" title=\"Lakefront Arena\">Lakefront Arena</a> in <a href=\"/wiki/New_Orleans\" title=\"New Orleans\">New Orleans</a>, <a href=\"/wiki/Louisiana\" title=\"Louisiana\">Louisiana</a>. The New Orleans games were paid for by Barry Mendelson for $1.2 million with the Hawks going 6–6 in Louisiana. <a href=\"/wiki/Dominique_Wilkins\" title=\"Dominique Wilkins\">Dominique Wilkins</a> won the <a href=\"/wiki/Slam_Dunk_Contest\" title=\"Slam Dunk Contest\">Slam Dunk Contest</a> in 1985 and 1990, engaging in an iconic rivalry with <a href=\"/wiki/Michael_Jordan\" title=\"Michael Jordan\">Michael Jordan</a>. <a href=\"/wiki/Spud_Webb\" title=\"Spud Webb\">Spud Webb</a> won the Slam Dunk Contest and Fratello won the Coach of the Year Award in 1986.\n",
      "</p>, <p>From 1985 to 1989, the Hawks were among the league's elite, winning 50 games or more each season. They won a division title in 1986–87 going 57–25 which was a franchise record that would last until the 2014–15 season. However, the team could not advance past the semifinals of the Eastern Conference playoffs, losing to the eventual Eastern Conference (and in some years, NBA) champions <a href=\"/wiki/Boston_Celtics\" title=\"Boston Celtics\">Boston</a> and <a href=\"/wiki/Detroit_Pistons\" title=\"Detroit Pistons\">Detroit</a>. The Hawks drafted <a href=\"/wiki/Stacey_Augmon\" title=\"Stacey Augmon\">Stacey Augmon</a> with their ninth overall pick in the <a href=\"/wiki/1991_NBA_draft\" title=\"1991 NBA draft\">1991 NBA draft</a>, who would make the All-Rookie First Team. However, Wilkins had a season-ending injury in the middle of the season, and without him, the Hawks were unable to make it to the playoffs. In 1992, the Hawks acquired guard <a href=\"/wiki/Mookie_Blaylock\" title=\"Mookie Blaylock\">Mookie Blaylock</a> from the <a class=\"mw-redirect\" href=\"/wiki/New_Jersey_Nets\" title=\"New Jersey Nets\">New Jersey Nets</a>; he would spend seven years of his career as a Hawk, leading them in career steals and three-point field goals while earning an All-Star appearance in 1994. After seasons of mediocrity, <a href=\"/wiki/Lenny_Wilkens\" title=\"Lenny Wilkens\">Lenny Wilkens</a> was hired as head coach in 1993. In <a href=\"/wiki/1993%E2%80%9394_NBA_season\" title=\"1993–94 NBA season\">1993–94</a>, the Hawks won 57 games, tying a team record. They also won a fourth division title in Atlanta, and third in the Central Division. Coach Wilkens was named Coach of the Year for his work with the team. However, the team fell short again in the playoffs, losing to the fifth-seeded <a href=\"/wiki/Indiana_Pacers\" title=\"Indiana Pacers\">Indiana Pacers</a> in the Eastern semis in six games. The season was also marred by the trading of Dominique Wilkins, who remains the franchise all-time leading scorer, to the <a href=\"/wiki/Los_Angeles_Clippers\" title=\"Los Angeles Clippers\">Los Angeles Clippers</a> for <a href=\"/wiki/Danny_Manning\" title=\"Danny Manning\">Danny Manning</a>, who quickly left via free agency to the <a href=\"/wiki/Phoenix_Suns\" title=\"Phoenix Suns\">Phoenix Suns</a> after the season ended. On March 6, 2015, Dominique Wilkins received a statue in front of Philips Arena.\n",
      "</p>, <p>At the beginning of the 1994–95 season, the Hawks traded forward <a href=\"/wiki/Kevin_Willis\" title=\"Kevin Willis\">Kevin Willis</a> to the <a href=\"/wiki/Miami_Heat\" title=\"Miami Heat\">Miami Heat</a> for <a href=\"/wiki/Steve_Smith_(basketball)\" title=\"Steve Smith (basketball)\">Steve Smith</a> and <a href=\"/wiki/Grant_Long\" title=\"Grant Long\">Grant Long</a>. During the season, coach Wilkens broke the record (previously held by coach <a href=\"/wiki/Red_Auerbach\" title=\"Red Auerbach\">Red Auerbach</a>) for most victories by an NBA head coach with victory number 939. They ended up fifth in the Central Division with a 42–40 record, they would be swept by the <a href=\"/wiki/Indiana_Pacers\" title=\"Indiana Pacers\">Indiana Pacers</a> in the first round of the playoffs. The Hawks finished the 1995–96 season with a 46–36 record, fourth in the Central Division. Midway through the season, they acquired <a href=\"/wiki/Christian_Laettner\" title=\"Christian Laettner\">Christian Laettner</a> from the <a href=\"/wiki/Minnesota_Timberwolves\" title=\"Minnesota Timberwolves\">Minnesota Timberwolves</a>; Laettner would get an All-Star appearance in 1997. They upset the third-seeded Pacers in the first round in five games, however lost in five games to the <a href=\"/wiki/Orlando_Magic\" title=\"Orlando Magic\">Orlando Magic</a> in the semifinals.\n",
      "</p>, <p>Around this time, it was decided that the Omni should be replaced by a new arena. The Omni was designed with <a href=\"/wiki/Weathering_steel\" title=\"Weathering steel\">weathering steel</a> that was intended to rust into a seal around the arena so it could last for decades. However, the designers and architects did not reckon on Atlanta's humid subtropical climate. As a result, it never stopped rusting, and looked somewhat dated despite being 25 years old. When Turner won an NHL franchise, the <a href=\"/wiki/Atlanta_Thrashers\" title=\"Atlanta Thrashers\">Atlanta Thrashers</a>, one condition was that a new arena had to be in place before the new team took the ice for the first time, as The Omni was unusable even for temporary use. Eventually, it was decided that The Omni would be demolished and a new arena for the Hawks and the expansion NHL Thrashers would be built on the same area. Following the 1997 playoffs, the Hawks moved back to Georgia Tech's Alexander Memorial Coliseum, with the <a href=\"/wiki/Georgia_Dome\" title=\"Georgia Dome\">Georgia Dome</a> used for larger-capacity games, until <a class=\"mw-redirect\" href=\"/wiki/Philips_Arena\" title=\"Philips Arena\">Philips Arena</a> opened before the 1999–2000 season.\n",
      "</p>, <p>The Hawks had two 50+ win seasons in 1996–97 (56–26) and 1997–98 (50–32), with center <a href=\"/wiki/Dikembe_Mutombo\" title=\"Dikembe Mutombo\">Dikembe Mutombo</a> winning defensive player of the year awards back to back. The Hawks defeated the <a href=\"/wiki/Detroit_Pistons\" title=\"Detroit Pistons\">Detroit Pistons</a> in five games in the first round of the 1997 NBA playoffs, but lost in five games in the second round to the defending champs <a href=\"/wiki/Chicago_Bulls\" title=\"Chicago Bulls\">Chicago Bulls</a>. Game 4, an 89–80 loss, would be the last game at The Omni. In 1997–98, forward <a href=\"/wiki/Alan_Henderson\" title=\"Alan Henderson\">Alan Henderson</a> won Most Improved Player award. However, the Hawks would lose in four games in the first round of the playoffs to the <a href=\"/wiki/Charlotte_Hornets\" title=\"Charlotte Hornets\">Charlotte Hornets</a>. The Hawks would end up with a 31-win campaign in the lockout-shortened 1998–99 season. In the first round they defeated the Pistons in five games again, but they could not advance past the second round of the playoffs, as they were swept by the eighth-seeded <a href=\"/wiki/New_York_Knicks\" title=\"New York Knicks\">New York Knicks</a>.\n",
      "</p>, <p>In the <a href=\"/wiki/1999%E2%80%932000_NBA_season\" title=\"1999–2000 NBA season\">1999–2000 season</a>, their first season at Philips Arena, the Hawks traded <a href=\"/wiki/Steve_Smith_(basketball)\" title=\"Steve Smith (basketball)\">Steve Smith</a> to <a href=\"/wiki/Portland_Trail_Blazers\" title=\"Portland Trail Blazers\">Portland</a> for <a href=\"/wiki/Isaiah_Rider\" title=\"Isaiah Rider\">Isaiah Rider</a> and <a href=\"/wiki/Jim_Jackson_(basketball)\" title=\"Jim Jackson (basketball)\">Jim Jackson</a>, and sent <a href=\"/wiki/Mookie_Blaylock\" title=\"Mookie Blaylock\">Mookie Blaylock</a> and a first-round draft pick to the <a href=\"/wiki/Golden_State_Warriors\" title=\"Golden State Warriors\">Golden State Warriors</a> for <a href=\"/wiki/Bimbo_Coles\" title=\"Bimbo Coles\">Bimbo Coles</a> and a first-round draft pick. Smith and Blaylock had been two of the Hawks' most popular players during the 1990s, and Smith had recently been awarded the <a href=\"/wiki/J._Walter_Kennedy_Citizenship_Award\" title=\"J. Walter Kennedy Citizenship Award\">J. Walter Kennedy Citizenship Award</a> for his charitable endeavors, as well as being selected in the <a href=\"/wiki/1998_NBA_All-Star_Game\" title=\"1998 NBA All-Star Game\">1998 NBA All-Star Game</a>. By contrast, Rider had a history of behavioral problems both on and off the court. Rider's troubled conduct continued after his arrival in Atlanta. Rider missed the first day of training camp and was late for two games. After reports that he smoked <a href=\"/wiki/Cannabis_(drug)\" title=\"Cannabis (drug)\">marijuana</a> in an <a href=\"/wiki/Orlando,_Florida\" title=\"Orlando, Florida\">Orlando</a> hotel room during a January road trip, the league demanded that he attend drug counseling, and fined him a total of $200,000 until he agreed to go. When he showed up late for a March game, the Hawks released him.<sup class=\"reference\" id=\"cite_ref-26\"><a href=\"#cite_note-26\">[26]</a></sup> The Smith/Rider trade sent the Hawks into a downward spiral. After only missing the playoffs four times since 1977, they fell to seventh place in the Central Division with a 28–54 record; they would not return to the playoffs for eight years.\n",
      "</p>, <p>Point guard <a href=\"/wiki/Jason_Terry\" title=\"Jason Terry\">Jason Terry</a> became the team's scoring leader during the 2000–01 season, leading them with 19.7 ppg. After the All-Star break, the Hawks traded Mutombo to the <a href=\"/wiki/Philadelphia_76ers\" title=\"Philadelphia 76ers\">Philadelphia 76ers</a> for <a href=\"/wiki/Theo_Ratliff\" title=\"Theo Ratliff\">Theo Ratliff</a>, <a href=\"/wiki/Toni_Kuko%C4%8D\" title=\"Toni Kukoč\">Toni Kukoč</a>, and <a href=\"/wiki/Nazr_Mohammed\" title=\"Nazr Mohammed\">Nazr Mohammed</a>. However, Ratliff was injured and did not play with the Hawks until next season. They ended the season with a 25–57 record. In 2001, the Hawks drafted Spanish star <a href=\"/wiki/Pau_Gasol\" title=\"Pau Gasol\">Pau Gasol</a> 3rd, but his rights were ceded to the <a href=\"/wiki/Memphis_Grizzlies\" title=\"Memphis Grizzlies\">Memphis Grizzlies</a> in a trade involving <a href=\"/wiki/Shareef_Abdur-Rahim\" title=\"Shareef Abdur-Rahim\">Shareef Abdur-Rahim</a>. Abdur-Rahim became the team's scoring leader, and made his only All-Star appearance in 2002. The team ended up 33–49 for the 2001–02 season. The Hawks sent Kukoc to the <a href=\"/wiki/Milwaukee_Bucks\" title=\"Milwaukee Bucks\">Milwaukee Bucks</a> for All-Star <a href=\"/wiki/Glenn_Robinson\" title=\"Glenn Robinson\">Glenn Robinson</a> in 2002, Robinson lead the team with 20.8 ppg. But the Hawks still failed to make the playoffs for the 2002–03 season, finishing with a 35–47 record.\n",
      "</p>, <p>In February 2004, the Hawks had the distinction of having NBA All-Star <a href=\"/wiki/Rasheed_Wallace\" title=\"Rasheed Wallace\">Rasheed Wallace</a> play one game for the team. Wallace was traded from <a href=\"/wiki/Portland_Trail_Blazers\" title=\"Portland Trail Blazers\">Portland</a> to the Hawks along with <a href=\"/wiki/Wesley_Person\" title=\"Wesley Person\">Wesley Person</a> for Abdur-Rahim, Ratliff, and <a href=\"/wiki/Dan_Dickau\" title=\"Dan Dickau\">Dan Dickau</a>.<sup class=\"reference\" id=\"cite_ref-27\"><a href=\"#cite_note-27\">[27]</a></sup> In his lone game for the Hawks, Wallace scored 20 points, had 6 rebounds, 5 blocks, 2 assists and a steal in a loss to the <a class=\"mw-redirect\" href=\"/wiki/New_Jersey_Nets\" title=\"New Jersey Nets\">New Jersey Nets</a>.<sup class=\"reference\" id=\"cite_ref-28\"><a href=\"#cite_note-28\">[28]</a></sup> After the game he was dealt to the <a href=\"/wiki/Detroit_Pistons\" title=\"Detroit Pistons\">Detroit Pistons</a> in a three-way trade with the <a href=\"/wiki/Boston_Celtics\" title=\"Boston Celtics\">Boston Celtics</a>. In turn, Detroit sent guard <a href=\"/wiki/Bob_Sura\" title=\"Bob Sura\">Bob Sura</a>, center <a href=\"/wiki/%C5%BDeljko_Rebra%C4%8Da\" title=\"Željko Rebrača\">Željko Rebrača</a>, and a first-round draft pick to the Hawks. The Boston Celtics also sent forward <a href=\"/wiki/Chris_Mills_(basketball)\" title=\"Chris Mills (basketball)\">Chris Mills</a> to Atlanta to complete the deal, but Mills never had a chance to play in a Hawks uniform. The Hawks ended their 2003–04 season with a 28–54 record.<sup class=\"reference\" id=\"cite_ref-29\"><a href=\"#cite_note-29\">[29]</a></sup> In 2003, Atlanta hosted the All-Star game, the last an Eastern Conference team would host for nine years.\n",
      "</p>, <p>On March 31, 2004, the team was sold to a group of executives by the name of <a class=\"mw-redirect\" href=\"/wiki/Atlanta_Spirit\" title=\"Atlanta Spirit\">Atlanta Spirit LLC</a><sup class=\"reference\" id=\"cite_ref-30\"><a href=\"#cite_note-30\">[30]</a></sup> by <a class=\"mw-redirect\" href=\"/wiki/Time_Warner\" title=\"Time Warner\">Time Warner</a> (who inherited the Hawks, Braves and Thrashers upon its merger with <a href=\"/wiki/Turner_Broadcasting_System\" title=\"Turner Broadcasting System\">Turner Broadcasting</a> in 1996). During the off-season, the Hawks sent <a href=\"/wiki/Jason_Terry\" title=\"Jason Terry\">Jason Terry</a>, <a href=\"/wiki/Alan_Henderson\" title=\"Alan Henderson\">Alan Henderson</a>, and a future first-round draft pick to the <a href=\"/wiki/Dallas_Mavericks\" title=\"Dallas Mavericks\">Dallas Mavericks</a> for <a href=\"/wiki/Antoine_Walker\" title=\"Antoine Walker\">Antoine Walker</a> and <a href=\"/wiki/Tony_Delk\" title=\"Tony Delk\">Tony Delk</a>. After the change in ownership, the Hawks still struggled. In the <a href=\"/wiki/2004%E2%80%9305_NBA_season\" title=\"2004–05 NBA season\">2004–05 season</a>, the Hawks were the league's worst team with a mere 13 victories (five fewer than even the expansion <a href=\"/wiki/Charlotte_Hornets\" title=\"Charlotte Hornets\">Charlotte Bobcats</a> and the struggling <a href=\"/wiki/New_Orleans_Pelicans\" title=\"New Orleans Pelicans\">New Orleans Hornets</a>). It was also the year <a href=\"/wiki/Josh_Smith\" title=\"Josh Smith\">Josh Smith</a> won the 2005 Slam Dunk Contest.\n",
      "</p>, <p>In the summer of 2005, the Hawks completed a sign and trade deal with the <a href=\"/wiki/Phoenix_Suns\" title=\"Phoenix Suns\">Phoenix Suns</a> to acquire <a href=\"/wiki/Joe_Johnson_(basketball)\" title=\"Joe Johnson (basketball)\">Joe Johnson</a> in return for <a href=\"/wiki/Boris_Diaw\" title=\"Boris Diaw\">Boris Diaw</a> and two future 1st round picks.<sup class=\"reference\" id=\"cite_ref-31\"><a href=\"#cite_note-31\">[31]</a></sup> They also signed <a href=\"/wiki/Zaza_Pachulia\" title=\"Zaza Pachulia\">Zaza Pachulia</a> from the <a href=\"/wiki/Milwaukee_Bucks\" title=\"Milwaukee Bucks\">Milwaukee Bucks</a>. These changes occurred after an apparent power struggle between the owners for nearly three weeks before the moves were made.<sup class=\"reference\" id=\"cite_ref-32\"><a href=\"#cite_note-32\">[32]</a></sup>\n",
      "</p>, <p>Despite their league-worst record the previous season, the Hawks only landed the number two pick in the <a href=\"/wiki/2005_NBA_draft\" title=\"2005 NBA draft\">2005 NBA draft</a> lottery (the first pick went to the <a href=\"/wiki/Milwaukee_Bucks\" title=\"Milwaukee Bucks\">Milwaukee Bucks</a>). With the second pick, the Hawks selected <a href=\"/wiki/Marvin_Williams\" title=\"Marvin Williams\">Marvin Williams</a> of <a href=\"/wiki/North_Carolina_Tar_Heels_men%27s_basketball\" title=\"North Carolina Tar Heels men's basketball\">North Carolina</a>. In the <a href=\"/wiki/2006_NBA_draft\" title=\"2006 NBA draft\">2006 draft</a>, the Hawks selected former <a href=\"/wiki/Duke_Blue_Devils_men%27s_basketball\" title=\"Duke Blue Devils men's basketball\">Duke</a> star <a href=\"/wiki/Shelden_Williams\" title=\"Shelden Williams\">Shelden Williams</a> with the fifth overall pick.\n",
      "</p>, <p>Hope and redemption appeared to be on the horizon for the Hawks beginning in 2007. With the third pick of the NBA draft, they selected <a href=\"/wiki/Al_Horford\" title=\"Al Horford\">Al Horford</a>.<sup class=\"reference\" id=\"cite_ref-33\"><a href=\"#cite_note-33\">[33]</a></sup> Horford nearly averaged a double-double during his rookie season, and was the only unanimous selection to the All-Rookie First Team as well as being runner-up for Rookie of the Year honors. The season started with a victory against the <a href=\"/wiki/Dallas_Mavericks\" title=\"Dallas Mavericks\">Dallas Mavericks</a> 101–94, sending hope to Hawks fans. The last time they won a season opener was in 1998, also the last time they made the playoffs. For the 2007–08 season, the Atlanta Hawks updated the logos and uniforms that saw navy blue become the primary color, with red relegated to trim color status. This marked the first time in team history that they had used navy blue as one of their colors.\n",
      "</p>, <p>A mid-season trade for point guard <a href=\"/wiki/Mike_Bibby\" title=\"Mike Bibby\">Mike Bibby</a> boosted the Hawks' playoff hopes.<sup class=\"reference\" id=\"cite_ref-34\"><a href=\"#cite_note-34\">[34]</a></sup> At the time of the trade the Hawks were 22–28; afterwards, they won 15 of their last 32 games to finish 37–45. Although they finished with a losing record, they managed to make the playoffs for the first time since <a href=\"/wiki/1999_NBA_playoffs\" title=\"1999 NBA playoffs\">1999</a>. In the playoffs the Hawks started to show improvement, pushing the eventual NBA Champions, <a href=\"/wiki/Boston_Celtics\" title=\"Boston Celtics\">Boston Celtics</a>, to a <a href=\"/wiki/List_of_NBA_game_sevens\" title=\"List of NBA game sevens\">Game 7</a> before losing in a blowout in Boston. The Hawks won all three games at Philips Arena, which hosted its first playoff games and earned its first sellout.\n",
      "</p>, <p>The 2008–09 season saw the Hawks win 47 games, their first winning season since 1999. With almost an intact lineup from the previous year, the Hawks manage to take a step forward in their development. Again they were pushed to a Game 7 in the first round but capitalized on home-court advantage earning their first playoff series win since 1999 against the <a href=\"/wiki/Miami_Heat\" title=\"Miami Heat\">Miami Heat</a>. The Hawks were swept by the <a href=\"/wiki/Cleveland_Cavaliers\" title=\"Cleveland Cavaliers\">Cleveland Cavaliers</a> 4–0 in the Conference Semifinals.\n",
      "</p>, <p>The 2009–10 season saw the Hawks improve further, winning 53 games, their first 50-win season since 1997–98. Al Horford earned his first All-Star selection, and along with Joe Johnson, this marked the first time since 1998 that the Hawks sent two players to the All-Star Game. The playoffs, however, were a reprise from the previous year. They won a hard-fought seven-game series against the <a href=\"/wiki/Milwaukee_Bucks\" title=\"Milwaukee Bucks\">Milwaukee Bucks</a>, but they were swept by the <a href=\"/wiki/Orlando_Magic\" title=\"Orlando Magic\">Orlando Magic</a> in the second round, with every game a one-sided contest. After the season, the Hawks dismissed head coach Mike Woodson and was replaced by <a href=\"/wiki/Larry_Drew\" title=\"Larry Drew\">Larry Drew</a>.<sup class=\"reference\" id=\"cite_ref-35\"><a href=\"#cite_note-35\">[35]</a></sup>\n",
      "</p>, <p>The Hawks took a step back in the 2010–11 season, finishing with 44 wins, even though Horford and Johnson were named to the All-Star team. In mid-season the Hawks traded Mike Bibby to the <a href=\"/wiki/Washington_Wizards\" title=\"Washington Wizards\">Washington Wizards</a> for <a href=\"/wiki/Kirk_Hinrich\" title=\"Kirk Hinrich\">Kirk Hinrich</a>, in hopes of bringing a defensive guard to replace the defensively liable Bibby. The Hawks finished the season losing their final six games. In the playoffs the Hawks beat the Magic in six games; however, they subsequently lost to the <a href=\"/wiki/Chicago_Bulls\" title=\"Chicago Bulls\">Chicago Bulls</a> in the Eastern Conference Semifinals in six games.\n",
      "</p>, <p>In August 2011, it was announced that California-based businessman <a href=\"/wiki/Alex_Meruelo\" title=\"Alex Meruelo\">Alex Meruelo</a> was buying a majority stake of the Hawks,<sup class=\"reference\" id=\"cite_ref-meruelo_36-0\"><a href=\"#cite_note-meruelo-36\">[36]</a></sup><sup class=\"reference\" id=\"cite_ref-37\"><a href=\"#cite_note-37\">[37]</a></sup> but in November he backed out of his intentions.<sup class=\"reference\" id=\"cite_ref-38\"><a href=\"#cite_note-38\">[38]</a></sup>\n",
      "</p>, <p>In December 2011, the Hawks signed <a href=\"/wiki/Tracy_McGrady\" title=\"Tracy McGrady\">Tracy McGrady</a>, <a href=\"/wiki/Jerry_Stackhouse\" title=\"Jerry Stackhouse\">Jerry Stackhouse</a>, <a href=\"/wiki/Jason_Collins\" title=\"Jason Collins\">Jason Collins</a>, <a class=\"mw-redirect\" href=\"/wiki/Vladimir_Radmanovic\" title=\"Vladimir Radmanovic\">Vladimir Radmanovic</a>, <a href=\"/wiki/Jannero_Pargo\" title=\"Jannero Pargo\">Jannero Pargo</a>, and <a href=\"/wiki/Willie_Green\" title=\"Willie Green\">Willie Green</a>. They also picked up rookies <a href=\"/wiki/Donald_Sloan_(basketball)\" title=\"Donald Sloan (basketball)\">Donald Sloan</a> and 27-year-old <a href=\"/wiki/Ivan_Johnson_(basketball)\" title=\"Ivan Johnson (basketball)\">Ivan Johnson</a>. Sloan was waived a month later.\n",
      "</p>, <p>The Hawks finished the 2011–12 season with the fourth-best record in the Eastern Conference with 40 wins,<sup class=\"reference\" id=\"cite_ref-39\"><a href=\"#cite_note-39\">[39]</a></sup> clinching the playoffs for the fifth straight season. However, the Hawks would be eliminated in the first round by the <a href=\"/wiki/Boston_Celtics\" title=\"Boston Celtics\">Boston Celtics</a> in six games, ending the Hawks' three-year streak of advancing to the second round.\n",
      "</p>, <p>On June 25, 2012, the Hawks hired <a href=\"/wiki/San_Antonio_Spurs\" title=\"San Antonio Spurs\">San Antonio Spurs</a> Vice President of Basketball Operations Danny Ferry as President of Basketball Operations and General Manager. During the <a href=\"/wiki/2012_NBA_draft\" title=\"2012 NBA draft\">2012 NBA draft</a>, the Hawks chose guard <a href=\"/wiki/John_Jenkins_(basketball)\" title=\"John Jenkins (basketball)\">John Jenkins</a> with the 23rd pick and power forward <a href=\"/wiki/Mike_Scott_(basketball)\" title=\"Mike Scott (basketball)\">Mike Scott</a> with the 43rd pick. On July 2, 2012, the Hawks traded leading scorer and All-Star Joe Johnson to the <a href=\"/wiki/Brooklyn_Nets\" title=\"Brooklyn Nets\">Brooklyn Nets</a> for <a href=\"/wiki/Jordan_Farmar\" title=\"Jordan Farmar\">Jordan Farmar</a>, <a href=\"/wiki/Anthony_Morrow\" title=\"Anthony Morrow\">Anthony Morrow</a>, <a href=\"/wiki/DeShawn_Stevenson\" title=\"DeShawn Stevenson\">DeShawn Stevenson</a>, <a href=\"/wiki/Jordan_Williams_(basketball,_born_1990)\" title=\"Jordan Williams (basketball, born 1990)\">Jordan Williams</a> and <a href=\"/wiki/Johan_Petro\" title=\"Johan Petro\">Johan Petro</a>, as well as a 2013 first-round pick. That same day, the Hawks traded small forward <a href=\"/wiki/Marvin_Williams\" title=\"Marvin Williams\">Marvin Williams</a> to the <a href=\"/wiki/Utah_Jazz\" title=\"Utah Jazz\">Utah Jazz</a> for point guard <a href=\"/wiki/Devin_Harris\" title=\"Devin Harris\">Devin Harris</a>.\n",
      "</p>, <p>On July 10, 2012, the Hawks signed guard Lou Williams.\n",
      "</p>, <p>On January 21, 2013, following Lou Williams' season-ending injury in a game against the Brooklyn Nets,<sup class=\"reference\" id=\"cite_ref-40\"><a href=\"#cite_note-40\">[40]</a></sup> the Hawks signed guard <a href=\"/wiki/Jannero_Pargo\" title=\"Jannero Pargo\">Jannero Pargo</a> to a 10-day contract.<sup class=\"reference\" id=\"cite_ref-41\"><a href=\"#cite_note-41\">[41]</a></sup>\n",
      "</p>, <p>On February 21, 2013, the Hawks traded Morrow to the <a href=\"/wiki/Dallas_Mavericks\" title=\"Dallas Mavericks\">Dallas Mavericks</a> for <a href=\"/wiki/Dahntay_Jones\" title=\"Dahntay Jones\">Dahntay Jones</a>. That same day, the Hawks traded a future 2nd-round pick to the <a href=\"/wiki/Golden_State_Warriors\" title=\"Golden State Warriors\">Golden State Warriors</a> in exchange for <a href=\"/wiki/Jeremy_Tyler\" title=\"Jeremy Tyler\">Jeremy Tyler</a>, who was waived 15 days later.\n",
      "</p>, <p>The Hawks ended the 2012–13 season with a 44–38 record, making a playoff appearance for the sixth straight season. However, they were eliminated by the <a href=\"/wiki/Indiana_Pacers\" title=\"Indiana Pacers\">Indiana Pacers</a> in six games in the first round. By the end of the off-season, every player involved in the Johnson and Williams trades just a year earlier were either waived or not brought back. The 2013 free agency period also marked the end of the <a href=\"/wiki/Josh_Smith\" title=\"Josh Smith\">Josh Smith</a> era for Atlanta as he signed a contract with the <a href=\"/wiki/Detroit_Pistons\" title=\"Detroit Pistons\">Detroit Pistons</a>. Longtime Hawk <a href=\"/wiki/Zaza_Pachulia\" title=\"Zaza Pachulia\">Zaza Pachulia</a> moved on as well and signed with the <a href=\"/wiki/Milwaukee_Bucks\" title=\"Milwaukee Bucks\">Milwaukee Bucks</a>. With half the roster gone, 2012–13 proved to be a roster turnover year, paving a path to success for Mike Budenholzer.\n",
      "</p>, <p>On May 28, 2013, the Hawks hired <a href=\"/wiki/San_Antonio_Spurs\" title=\"San Antonio Spurs\">San Antonio Spurs</a> assistant coach <a href=\"/wiki/Mike_Budenholzer\" title=\"Mike Budenholzer\">Mike Budenholzer</a> as the new head coach.\n",
      "</p>, <p>The Hawks entered the <a href=\"/wiki/2013_NBA_draft\" title=\"2013 NBA draft\">2013 NBA draft</a> with four draft picks. They drafted point guards <a href=\"/wiki/Dennis_Schr%C3%B6der\" title=\"Dennis Schröder\">Dennis Schröder</a> (17th pick) and <a href=\"/wiki/Shane_Larkin\" title=\"Shane Larkin\">Shane Larkin</a> (18th pick). They also chose point guard <a class=\"mw-redirect\" href=\"/wiki/Raulzinho_Neto\" title=\"Raulzinho Neto\">Raulzinho Neto</a> with the 47th pick and small forward <a class=\"mw-redirect\" href=\"/wiki/James_Ennis_(basketball)\" title=\"James Ennis (basketball)\">James Ennis</a> with the 50th pick. However, the Hawks traded Larkin to the Dallas Mavericks for the draft rights of <a href=\"/wiki/Mike_Muscala\" title=\"Mike Muscala\">Mike Muscala</a> and <a href=\"/wiki/Lucas_Nogueira\" title=\"Lucas Nogueira\">Lucas Nogueira</a> (originally drafted by the <a href=\"/wiki/Boston_Celtics\" title=\"Boston Celtics\">Boston Celtics</a>), as well as guard <a href=\"/wiki/Jared_Cunningham\" title=\"Jared Cunningham\">Jared Cunningham</a>. They also traded Ennis's draft rights to the <a href=\"/wiki/Miami_Heat\" title=\"Miami Heat\">Miami Heat</a> and Neto's to the Utah Jazz for a future second-round pick. The Hawks brought back <a href=\"/wiki/Kyle_Korver\" title=\"Kyle Korver\">Kyle Korver</a> with a four-year, $24 million deal and signed power forward <a href=\"/wiki/Paul_Millsap\" title=\"Paul Millsap\">Paul Millsap</a> to a two-year, $19 million deal.\n",
      "</p>, <p>On December 26, 2013, Horford tore his right pectoral muscle, and on December 30, the Hawks announced that he would undergo surgery the next day and would miss the rest of the season.<sup class=\"reference\" id=\"cite_ref-42\"><a href=\"#cite_note-42\">[42]</a></sup> The Hawks finished 38–44, their first losing season since 2008. However, due to the weakness of the Eastern Conference, they finished as the 8th seed in the playoffs, and just like 2008, the Hawks would not go down easy, as they took the top-seeded Pacers to 7 games in before a 92–80 loss in Game 7.\n",
      "</p>, <p>On May 1, 2014, the Hawks unveiled a new secondary logo, which is a modernized version of the 1972–95 \"Pac-Man\" logo.<sup class=\"reference\" id=\"cite_ref-PacIsBack_43-0\"><a href=\"#cite_note-PacIsBack-43\">[43]</a></sup> On July 15, 2014, they acquired defensive specialist <a href=\"/wiki/Thabo_Sefolosha\" title=\"Thabo Sefolosha\">Thabo Sefolosha</a> from the <a href=\"/wiki/Oklahoma_City_Thunder\" title=\"Oklahoma City Thunder\">Oklahoma City Thunder</a>. On September 7, 2014, <a href=\"/wiki/Bruce_Levenson\" title=\"Bruce Levenson\">Bruce Levenson</a> announced he would sell his share of the team, after self-reporting an inappropriate email he sent in 2012.<sup class=\"reference\" id=\"cite_ref-44\"><a href=\"#cite_note-44\">[44]</a></sup> Some in the African American sports community have defended Levenson, namely <a href=\"/wiki/Jason_Whitlock\" title=\"Jason Whitlock\">Jason Whitlock</a><sup class=\"reference\" id=\"cite_ref-45\"><a href=\"#cite_note-45\">[45]</a></sup> and <a href=\"/wiki/Kareem_Abdul-Jabbar\" title=\"Kareem Abdul-Jabbar\">Kareem Abdul-Jabbar</a>,<sup class=\"reference\" id=\"cite_ref-46\"><a href=\"#cite_note-46\">[46]</a></sup> commenting that Levenson's email had no racist intent, but was motivated by valid business concerns.\n",
      "</p>, <p>On January 2, 2015, <i>The Atlanta Journal-Constitution</i> reported that the remaining minority owners of Atlanta Hawks, LLC would join Levenson, effectively putting the entire franchise for sale.<sup class=\"reference\" id=\"cite_ref-Hawks_100%_for_sale_47-0\"><a href=\"#cite_note-Hawks_100%_for_sale-47\">[47]</a></sup> The sale of the team as well as the operating rights to Philips Arena was handled by <a href=\"/wiki/Goldman_Sachs\" title=\"Goldman Sachs\">Goldman Sachs</a> and Inner Circle Sports LLC. The NBA has stated that the Hawks would remain in Atlanta as a condition of their sale. Additionally, Atlanta mayor <a href=\"/wiki/Kasim_Reed\" title=\"Kasim Reed\">Kasim Reed</a> stated that the city might offer incentives for a prospective owner to keep the Hawks in Atlanta for another 30 years.<sup class=\"reference\" id=\"cite_ref-48\"><a href=\"#cite_note-48\">[48]</a></sup> On April 22, 2015, Atlanta Spirit reached a tentative agreement to sell the franchise to a group led by billionaire <a href=\"/wiki/Tony_Ressler\" title=\"Tony Ressler\">Tony Ressler</a> (with <a href=\"/wiki/Grant_Hill\" title=\"Grant Hill\">Grant Hill</a>, <a href=\"/wiki/Steven_Price_(businessman)\" title=\"Steven Price (businessman)\">Steven Price</a>, <a href=\"/wiki/Rick_Schnall\" title=\"Rick Schnall\">Rick Schnall</a>, <a href=\"/wiki/Sara_Blakely\" title=\"Sara Blakely\">Sara Blakely</a>, <a href=\"/wiki/Jesse_Itzler\" title=\"Jesse Itzler\">Jesse Itzler</a> and Ressler's wife <a href=\"/wiki/Jami_Gertz\" title=\"Jami Gertz\">Jami Gertz</a> holding minority stakes) for $850 million; the sale was approved by the NBA Board of Governors on June 24, 2015.<sup class=\"reference\" id=\"cite_ref-HawksSaleApproved2015_49-0\"><a href=\"#cite_note-HawksSaleApproved2015-49\">[49]</a></sup><sup class=\"reference\" id=\"cite_ref-Sale_to_Ressler_50-0\"><a href=\"#cite_note-Sale_to_Ressler-50\">[50]</a></sup><sup class=\"reference\" id=\"cite_ref-51\"><a href=\"#cite_note-51\">[51]</a></sup>\n",
      "</p>, <p>On January 31, 2015, the Hawks became the first NBA team to go 17–0 in a calendar month by beating Portland.<sup class=\"reference\" id=\"cite_ref-52\"><a href=\"#cite_note-52\">[52]</a></sup> The 2015 All-Star Game consisted of four Hawks All-Stars including Jeff Teague, Paul Millsap, Kyle Korver and Al Horford. On March 9, 2015, Kyle Korver and DeMarre Carroll each scored 20 points to help the Hawks become the first NBA team to 50 wins in 2014–15, scoring a season-high in routing the Sacramento Kings 130–105. The Hawks also set a franchise record by going 20-of-36 for three-pointers, breaking the mark of 19 set against the Dallas Mavericks on December 17, 1996.<sup class=\"reference\" id=\"cite_ref-53\"><a href=\"#cite_note-53\">[53]</a></sup> On March 20, 2015, the Hawks clinched their first division title in over two decades and became the first team not based in Florida to win the NBA's <a href=\"/wiki/Southeast_Division_(NBA)\" title=\"Southeast Division (NBA)\">Southeast Division</a>;<sup class=\"reference\" id=\"cite_ref-2015_SE_division_champs_54-0\"><a href=\"#cite_note-2015_SE_division_champs-54\">[54]</a></sup> one week later, with a win over Miami as well as a Cleveland loss to Brooklyn, the Hawks clinched the top seed in the <a href=\"/wiki/2015_NBA_playoffs\" title=\"2015 NBA playoffs\">Eastern Conference playoffs</a>.<sup class=\"reference\" id=\"cite_ref-Top_Seed_2015_55-0\"><a href=\"#cite_note-Top_Seed_2015-55\">[55]</a></sup> The team finished a franchise-best 60–22.<sup class=\"reference\" id=\"cite_ref-56\"><a href=\"#cite_note-56\">[56]</a></sup>\n",
      "</p>, <p>In the Eastern Conference first round, the Hawks defeated the <a href=\"/wiki/Brooklyn_Nets\" title=\"Brooklyn Nets\">Brooklyn Nets</a> in six games. The Hawks then advanced to the Eastern Conference Semifinals to face the Washington Wizards, also defeating them in six games. It was the first time they had advanced past the second round since 1967, their next-to-last year in St. Louis. The Hawks advanced to the <a href=\"/wiki/NBA_Conference_Finals#Eastern_Division/Conference\" title=\"NBA Conference Finals\">Eastern Conference Finals</a> for the first time in franchise history, when they lost in four games to the <a href=\"/wiki/Cleveland_Cavaliers\" title=\"Cleveland Cavaliers\">Cleveland Cavaliers</a>.\n",
      "</p>, <p>On June 22, 2016, the Hawks traded Jeff Teague to Indiana in a three-team deal, that would give Utah's 12th pick in the <a href=\"/wiki/2016_NBA_draft\" title=\"2016 NBA draft\">2016 NBA draft</a> to the Hawks.<sup class=\"reference\" id=\"cite_ref-57\"><a href=\"#cite_note-57\">[57]</a></sup> On July 8, 2016, Horford signed a four-year, $113 million contract with the <a href=\"/wiki/Boston_Celtics\" title=\"Boston Celtics\">Boston Celtics</a>.<sup class=\"reference\" id=\"cite_ref-58\"><a href=\"#cite_note-58\">[58]</a></sup><sup class=\"reference\" id=\"cite_ref-59\"><a href=\"#cite_note-59\">[59]</a></sup><sup class=\"reference\" id=\"cite_ref-60\"><a href=\"#cite_note-60\">[60]</a></sup> On July 12, 2016, <a href=\"/wiki/Dwight_Howard\" title=\"Dwight Howard\">Dwight Howard</a> agreed to return home to Atlanta on a three-year, $70 million contract with the Hawks.<sup class=\"reference\" id=\"cite_ref-61\"><a href=\"#cite_note-61\">[61]</a></sup> The Hawks finished the season with a 43–39 record, good enough for the fifth seed. They lost in the First Round to the <a href=\"/wiki/Washington_Wizards\" title=\"Washington Wizards\">Washington Wizards</a> in six games.\n",
      "</p>, <p>On June 20, 2017, Howard was traded, along with the 31st overall pick in the <a href=\"/wiki/2017_NBA_draft\" title=\"2017 NBA draft\">2017 NBA draft</a>, to the <a href=\"/wiki/Charlotte_Hornets\" title=\"Charlotte Hornets\">Charlotte Hornets</a> in exchange for <a class=\"mw-redirect\" href=\"/wiki/Marco_Bellinelli\" title=\"Marco Bellinelli\">Marco Bellinelli</a>, <a href=\"/wiki/Miles_Plumlee\" title=\"Miles Plumlee\">Miles Plumlee</a>, and the 41st overall pick in the same draft. Two days later, the Hawks selected <a href=\"/wiki/Wake_Forest_Demon_Deacons_men%27s_basketball\" title=\"Wake Forest Demon Deacons men's basketball\">Wake Forest</a> power forward <a href=\"/wiki/John_Collins_(basketball)\" title=\"John Collins (basketball)\">John Collins</a> with the 19th overall pick.<sup class=\"reference\" id=\"cite_ref-62\"><a href=\"#cite_note-62\">[62]</a></sup> On July 13, 2017, Paul Millsap left the Hawks by signing a multi-year deal with the Denver Nuggets.<sup class=\"reference\" id=\"cite_ref-63\"><a href=\"#cite_note-63\">[63]</a></sup>\n",
      "</p>, <p>The loss of Howard and Millsap proved insurmountable for the rebuilding Hawks as they finished with a 24–58 record in the <a href=\"/wiki/2017%E2%80%9318_NBA_season\" title=\"2017–18 NBA season\">2017–18 season</a>, last in the Eastern Conference, and missed the playoffs for the first time since the <a href=\"/wiki/2006%E2%80%9307_NBA_season\" title=\"2006–07 NBA season\">2006–07 season</a>. On April 25, 2018, the Hawks and head coach Budenholzer had mutually decided to part ways.<sup class=\"reference\" id=\"cite_ref-64\"><a href=\"#cite_note-64\">[64]</a></sup> Budenholzer later signed a deal to coach the <a href=\"/wiki/Milwaukee_Bucks\" title=\"Milwaukee Bucks\">Milwaukee Bucks</a>.\n",
      "</p>, <p>On May 11, 2018, <a href=\"/wiki/Lloyd_Pierce\" title=\"Lloyd Pierce\">Lloyd Pierce</a> was hired by the Atlanta Hawks as head coach.<sup class=\"reference\" id=\"cite_ref-65\"><a href=\"#cite_note-65\">[65]</a></sup><sup class=\"reference\" id=\"cite_ref-Pompey_66-0\"><a href=\"#cite_note-Pompey-66\">[66]</a></sup> On June 21, the Hawks selected <a href=\"/wiki/Luka_Don%C4%8Di%C4%87\" title=\"Luka Dončić\">Luka Dončić</a> with the third overall pick in the <a href=\"/wiki/2018_NBA_draft\" title=\"2018 NBA draft\">2018 NBA draft</a> and immediately traded him to the <a href=\"/wiki/Dallas_Mavericks\" title=\"Dallas Mavericks\">Dallas Mavericks</a> for a 2019 protected first-round pick and the draft rights to <a href=\"/wiki/Trae_Young\" title=\"Trae Young\">Trae Young</a>.<sup class=\"reference\" id=\"cite_ref-67\"><a href=\"#cite_note-67\">[67]</a></sup> The Atlanta Hawks also selected <a href=\"/wiki/Kevin_Huerter\" title=\"Kevin Huerter\">Kevin Huerter</a> with the 19th pick and <a href=\"/wiki/Omari_Spellman\" title=\"Omari Spellman\">Omari Spellman</a> with the 30th pick of the <a href=\"/wiki/2018_NBA_draft\" title=\"2018 NBA draft\">2018 NBA draft</a>.<sup class=\"reference\" id=\"cite_ref-68\"><a href=\"#cite_note-68\">[68]</a></sup> It was speculated that the Hawks general manager, Travis Schlenk, was following the same plan for a rebuild that he had success with in Golden State.<sup class=\"reference\" id=\"cite_ref-69\"><a href=\"#cite_note-69\">[69]</a></sup>\n",
      "</p>, <p>In July 2018, the Hawks acquired <a href=\"/wiki/Jeremy_Lin\" title=\"Jeremy Lin\">Jeremy Lin</a>,<sup class=\"reference\" id=\"cite_ref-70\"><a href=\"#cite_note-70\">[70]</a></sup> and traded <a href=\"/wiki/Dennis_Schr%C3%B6der\" title=\"Dennis Schröder\">Dennis Schröder</a>, after he demanded to be traded.<sup class=\"reference\" id=\"cite_ref-71\"><a href=\"#cite_note-71\">[71]</a></sup> <a href=\"/wiki/Carmelo_Anthony\" title=\"Carmelo Anthony\">Carmelo Anthony</a> was acquired in the trade involving Schröder,<sup class=\"reference\" id=\"cite_ref-72\"><a href=\"#cite_note-72\">[72]</a></sup> but was later waived through a buyout.<sup class=\"reference\" id=\"cite_ref-73\"><a href=\"#cite_note-73\">[73]</a></sup> During the off-season, the team signed <a href=\"/wiki/Vince_Carter\" title=\"Vince Carter\">Vince Carter</a> and <a href=\"/wiki/Alex_Len\" title=\"Alex Len\">Alex Len</a> among other players.<sup class=\"reference\" id=\"cite_ref-74\"><a href=\"#cite_note-74\">[74]</a></sup><sup class=\"reference\" id=\"cite_ref-75\"><a href=\"#cite_note-75\">[75]</a></sup> In February 2019, Lin was bought out, and eventually signed with the <a href=\"/wiki/Toronto_Raptors\" title=\"Toronto Raptors\">Toronto Raptors</a>.<sup class=\"reference\" id=\"cite_ref-76\"><a href=\"#cite_note-76\">[76]</a></sup><sup class=\"reference\" id=\"cite_ref-77\"><a href=\"#cite_note-77\">[77]</a></sup>\n",
      "</p>, <p>In the 2019 NBA Draft, the Atlanta Hawks obtained DeAndre Hunter who was drafted with the 4th pick. They also used the 10th pick, that they acquired when they traded Luka Doncic for Trae Young, to acquire Cam Reddish.<sup class=\"reference\" id=\"cite_ref-78\"><a href=\"#cite_note-78\">[78]</a></sup>\n",
      "</p>, <p>On January 23, 2020, Trae Young was selected to his first All Star Game. He was voted in as a starter and was the first Hawks player to start in an All Star Game since <a href=\"/wiki/Dikembe_Mutombo\" title=\"Dikembe Mutombo\">Dikembe Mutombo</a> in 1998.<sup class=\"reference\" id=\"cite_ref-79\"><a href=\"#cite_note-79\">[79]</a></sup> On February 4, 2020, the Hawks were involved in a four team trade in which they acquired <a href=\"/wiki/Clint_Capela\" title=\"Clint Capela\">Clint Capela</a> and <a href=\"/wiki/Nen%C3%AA\" title=\"Nenê\">Nenê</a>.<sup class=\"reference\" id=\"cite_ref-80\"><a href=\"#cite_note-80\">[80]</a></sup> Capela was healing from a foot injury at the time and did not play for that entire season, which was cut short due the NBA's COVID-19 protocols.<sup class=\"reference\" id=\"cite_ref-81\"><a href=\"#cite_note-81\">[81]</a></sup> Nene was waived by the Hawks on February 6, 2020.<sup class=\"reference\" id=\"cite_ref-82\"><a href=\"#cite_note-82\">[82]</a></sup><sup class=\"reference\" id=\"cite_ref-83\"><a href=\"#cite_note-83\">[83]</a></sup>\n",
      "</p>, <p>For the 2020–21 season, the Atlanta Hawks made a lot of moves to upgrade their roster. They signed two proven veteran players, <a href=\"/wiki/Bogdan_Bogdanovi%C4%87_(basketball)\" title=\"Bogdan Bogdanović (basketball)\">Bogdan Bogdanovic</a> at the wing position and <a href=\"/wiki/Danilo_Gallinari\" title=\"Danilo Gallinari\">Danilo Gallinari</a> at the power forward spot. They also signed <a href=\"/wiki/Rajon_Rondo\" title=\"Rajon Rondo\">Rajon Rondo</a> and <a href=\"/wiki/Kris_Dunn\" title=\"Kris Dunn\">Kris Dunn</a> to supply added help in the backcourt.<sup class=\"reference\" id=\"cite_ref-84\"><a href=\"#cite_note-84\">[84]</a></sup>\n",
      "</p>, <p>In March 2021, head coach Pierce was fired after the team's 14–20 start to the season and <a href=\"/wiki/Nate_McMillan\" title=\"Nate McMillan\">Nate McMillan</a> was named interim head coach.<sup class=\"reference\" id=\"cite_ref-85\"><a href=\"#cite_note-85\">[85]</a></sup> After McMillan took over head coaching duties, the Hawks immediately posted an eight-game win streak, putting them firmly in playoff contention.<sup class=\"reference\" id=\"cite_ref-86\"><a href=\"#cite_note-86\">[86]</a></sup> Under coach McMillan, the Hawks went 27–11 in the regular season, and  went on to finish the regular season with a 41–31 record.<sup class=\"reference\" id=\"cite_ref-87\"><a href=\"#cite_note-87\">[87]</a></sup> This was enough for them to earn the 5th best record in the Eastern Conference and the title of Southeast division champions.<sup class=\"reference\" id=\"cite_ref-88\"><a href=\"#cite_note-88\">[88]</a></sup> In the playoffs, they defeated the fourth-seeded Knicks before upsetting the top-seeded 76ers to reach the Eastern Conference Finals, only the second time in 54 years that the franchise has advanced past the second round. They lost to Budenholzer's Bucks in six games. This deep postseason run all but assured that McMillan would have the \"interim\" tag removed from his title; two days after the Hawks were eliminated, the Hawks announced that McMillan had agreed in principle to a four-year deal as full-time head coach;<sup class=\"reference\" id=\"cite_ref-89\"><a href=\"#cite_note-89\">[89]</a></sup> the deal was finalized on July 7.<sup class=\"reference\" id=\"cite_ref-90\"><a href=\"#cite_note-90\">[90]</a></sup> The <a href=\"/wiki/2020%E2%80%9321_Atlanta_Hawks_season\" title=\"2020–21 Atlanta Hawks season\">2020–21 Atlanta Hawks</a> have been compared to the <a href=\"/wiki/1977%E2%80%9378_Seattle_SuperSonics_season\" title=\"1977–78 Seattle SuperSonics season\">1977–78 Seattle SuperSonics</a>, in that both teams had poor records early on, made a coaching change, surged up the rankings to get better records, and made unexpected deep playoff runs.<sup class=\"reference\" id=\"cite_ref-91\"><a href=\"#cite_note-91\">[91]</a></sup>\n",
      "On December 22, 2021, The Atlanta Hawks added veteran <a href=\"/wiki/Lance_Stephenson\" title=\"Lance Stephenson\">Lance Stephenson</a> from free agency.\n",
      "</p>, <p><i>List of the last five seasons completed by the Hawks. For the full season-by-season history, see <a href=\"/wiki/List_of_Atlanta_Hawks_seasons\" title=\"List of Atlanta Hawks seasons\">List of Atlanta Hawks seasons</a>.</i>\n",
      "</p>, <p><i><b>Note:</b> GP = Games played, W = Wins, L = Losses, W–L% = Winning percentage</i>\n",
      "</p>, <p>Throughout the club's history, the team has undergone several uniform changes. The Hawks logo has shifted between variations of a full-bodied hawk holding a basketball on its claws and a silhouette of a hawk head (more commonly known as the <a href=\"/wiki/Pac-Man\" title=\"Pac-Man\">Pac-Man</a> logo). Red and white have been a part of the team's palette for the most part since the 1950s, but the Hawks also used various accent colors as well. Red, blue and white served as the team's color scheme during the St. Louis and early Atlanta years (1955–70), and they wore red and white uniforms for much of their tenure in St. Louis. The team moved to Atlanta in 1968 and sported baby blue and white uniforms until 1970, when they went with a blue, green and white palette. Starting in 1972, the Hawks wore red and white uniforms with yellow accents, and added black as an accent color in 1992. The color switch coincided with the arrival of the <a href=\"/wiki/National_Hockey_League\" title=\"National Hockey League\">NHL</a>'s <a href=\"/wiki/Atlanta_Flames\" title=\"Atlanta Flames\">Atlanta Flames</a>, who wore the same colors and shared the same owner as the Hawks; the now-<a href=\"/wiki/Calgary_Flames\" title=\"Calgary Flames\">Calgary Flames</a> even added black a few years after the Hawks made the same tweak. From 2007 to 2015, the Hawks returned to a red, blue and white scheme, adding silver as an accent color.<sup class=\"reference\" id=\"cite_ref-92\"><a href=\"#cite_note-92\">[92]</a></sup>\n",
      "</p>, <p>On May 1, 2014, the club adopted a stylized version of the 'Pac-Man' logo that it used from 1972 to 1995.<sup class=\"reference\" id=\"cite_ref-PacIsBack_43-1\"><a href=\"#cite_note-PacIsBack-43\">[43]</a></sup> The 'Pac-Man' logo (placed in a <a href=\"/wiki/Roundel\" title=\"Roundel\">roundel</a>) would become the team's primary logo after the conclusion of the team's <a href=\"/wiki/2014%E2%80%9315_Atlanta_Hawks_season\" title=\"2014–15 Atlanta Hawks season\">2014–15 season</a>.<sup class=\"reference\" id=\"cite_ref-93\"><a href=\"#cite_note-93\">[93]</a></sup> On June 24, 2015, the team unveiled its new home, road and alternate uniforms, along with its updated logos and colors. The new color scheme consisted of Torch Red, Volt Green and Georgia Granite Gray. The team also unveiled its new socks and shoes, in conjunction with the <a href=\"/wiki/National_Basketball_Association\" title=\"National Basketball Association\">National Basketball Association</a> (NBA)'s new contract for official game socks with Stance. Previously, official game socks were primarily either white or black, depending on a team's preference. The team wore white for home games, Georgia Granite Gray for road games, and Torch Red as an alternate uniform color.<sup class=\"reference\" id=\"cite_ref-NewATLHawksUnis2015_94-0\"><a href=\"#cite_note-NewATLHawksUnis2015-94\">[94]</a></sup><sup class=\"reference\" id=\"cite_ref-95\"><a href=\"#cite_note-95\">[95]</a></sup><sup class=\"reference\" id=\"cite_ref-96\"><a href=\"#cite_note-96\">[96]</a></sup>\n",
      "</p>, <p>As part of the NBA's switch to <a href=\"/wiki/Nike,_Inc.\" title=\"Nike, Inc.\">Nike</a>, the home and road designations were replaced by \"Icon\", \"Association\" and \"Statement\". The Hawks carried over their uniforms that they had worn the previous two seasons. The numbers on the white \"Icon\" uniform were changed to red with volt green trim; the other two uniforms remained the same.\n",
      "</p>, <p>On July 21, 2020, the Hawks unveiled new uniforms with a look similar to the set they wore in the mid-1970s. They also returned to the red, black and yellow color scheme they wore from 1992 to 2007, while adding gray as an accent color.<sup class=\"reference\" id=\"cite_ref-NewATLHawksUnis2020_5-1\"><a href=\"#cite_note-NewATLHawksUnis2020-5\">[5]</a></sup>\n",
      "</p>, <p>The Hawks also wore special edition \"City\" uniforms as part of its uniform deal with Nike. In the 2017–18 season, the Hawks wore black uniforms with volt green accents, featuring asymmetrical striping inspired from the team's early 1970s uniforms and futuristic fonts as a nod to the city's hip-hop music scene.<sup class=\"reference\" id=\"cite_ref-97\"><a href=\"#cite_note-97\">[97]</a></sup> In the 2018–19 season, the Hawks wore white uniforms with black and metallic gold trim as a nod to the team's 50th anniversary in Atlanta.<sup class=\"reference\" id=\"cite_ref-98\"><a href=\"#cite_note-98\">[98]</a></sup> During the 2019–20 season, the Hawks wore black uniforms with peach accents as a tribute to Atlanta's <a href=\"/wiki/Peachtree_Street\" title=\"Peachtree Street\">Peachtree Street</a>.<sup class=\"reference\" id=\"cite_ref-99\"><a href=\"#cite_note-99\">[99]</a></sup> For 2020–21, the Hawks' \"City\" uniform paid tribute to civil rights icon <a href=\"/wiki/Martin_Luther_King_Jr.\" title=\"Martin Luther King Jr.\">Martin Luther King Jr.</a>, featuring a black base and gold accents.<sup class=\"reference\" id=\"cite_ref-100\"><a href=\"#cite_note-100\">[100]</a></sup> The 2021–22 \"City\" uniform featured various elements from previous uniforms, including a yellow base from the 2004–07 alternates, the full-bodied hawk logo from the 1995–99 uniform, the \"Hawks\" script of the 1980s uniforms, the retro \"Atlanta\" script from the 1970–72 uniforms, and the block numbers and striping of the 1960s uniforms.<sup class=\"reference\" id=\"cite_ref-101\"><a href=\"#cite_note-101\">[101]</a></sup>\n",
      "</p>, <p>The <a href=\"/wiki/Boston_Celtics\" title=\"Boston Celtics\">Celtics</a>–Hawks rivalry is a <a href=\"/wiki/List_of_sports_rivalries\" title=\"List of sports rivalries\">rivalry</a> in the <a href=\"/wiki/Eastern_Conference_(NBA)\" title=\"Eastern Conference (NBA)\">Eastern Conference</a> of the <a href=\"/wiki/National_Basketball_Association\" title=\"National Basketball Association\">National Basketball Association</a> that has lasted for over five decades, although the two teams have played each other since the 1949–50 season, when the then-<a href=\"/wiki/Quad_Cities\" title=\"Quad Cities\">Tri-Cities</a> Blackhawks joined the NBA as part of the <a href=\"/wiki/National_Basketball_League_(United_States)\" title=\"National Basketball League (United States)\">National Basketball League</a> and the <a href=\"/wiki/Basketball_Association_of_America\" title=\"Basketball Association of America\">Basketball Association of America</a> merger. However, the Blackhawks could not field a truly competitive team until they moved to <a href=\"/wiki/St._Louis\" title=\"St. Louis\">St. Louis</a> as the St. Louis Hawks after a four-year stopover at <a href=\"/wiki/Milwaukee\" title=\"Milwaukee\">Milwaukee</a>. The two teams have faced each other eleven times in the NBA playoffs, four times in the <a href=\"/wiki/NBA_Finals\" title=\"NBA Finals\">NBA Finals</a>, with the Celtics winning ten of twelve series against the Hawks, including three out of four NBA Finals.<sup class=\"reference\" id=\"cite_ref-celticsrecap1950s_102-0\"><a href=\"#cite_note-celticsrecap1950s-102\">[102]</a></sup> While the Hawks have only defeated the Celtics twice out of eleven series in the NBA Playoffs, they still often managed to make their series with the Celtics memorable. The rivalry intensified in 2016 with Hawks All-Star center <a href=\"/wiki/Al_Horford\" title=\"Al Horford\">Al Horford</a> spurning the team and joining the Celtics.\n",
      "</p>, <p>The Hawks and the <a href=\"/wiki/Orlando_Magic\" title=\"Orlando Magic\">Orlando Magic</a> have an intense rivalry, mostly stemming from playoff competitions and the rising stardom of <a href=\"/wiki/Dwight_Howard\" title=\"Dwight Howard\">Dwight Howard</a> and <a href=\"/wiki/Josh_Smith\" title=\"Josh Smith\">Josh Smith</a>, both from the <a href=\"/wiki/2004_NBA_draft\" title=\"2004 NBA draft\">2004 NBA draft</a> and who were both raised in <a href=\"/wiki/Georgia_(U.S._state)\" title=\"Georgia (U.S. state)\">Georgia</a>.\n",
      "</p>, <p>The two teams faced each other three times in the playoffs in <a href=\"/wiki/1996_NBA_playoffs\" title=\"1996 NBA playoffs\">1996</a>, <a href=\"/wiki/2010_NBA_playoffs\" title=\"2010 NBA playoffs\">2010</a>, and <a href=\"/wiki/2011_NBA_playoffs\" title=\"2011 NBA playoffs\">2011 NBA playoffs</a>. The Magic beat the Hawks in the second round of the 1996 playoffs in five games and swept their 2010 playoff matchup. The Hawks eliminated the Magic 4–2 in the first round of the 2011 playoffs.\n",
      "</p>, <p>The Hawks and the <a href=\"/wiki/New_York_Knicks\" title=\"New York Knicks\">New York Knicks</a> developed a rivalry after the Hawks eliminated the Knicks 4–1 in the first round of the 2021 playoffs, with Trae Young hitting a game-winning shot at <a href=\"/wiki/Madison_Square_Garden\" title=\"Madison Square Garden\">Madison Square Garden</a> in Game 1. The series was notable for the vitriol that Knicks fans showed Young, with one fan spitting at him, and others repeatedly heckling and shouting \"Fuck Trae Young\". Young himself engaged in the rivalry, bowing as he hit a late shot in the pivotal Game 5 and even visiting Madison Square Garden for a WWE wrestling match and playing the role of a heel.\n",
      "</p>, <p><span class=\"plainlinks\"><a class=\"external text\" href=\"http://www.nba.com/hawks/roster/\" rel=\"nofollow\">Roster</a> <br/> Last transaction: January 13, 2022 </span>\n",
      "</p>, <p>The Hawks hold the draft rights to the following unsigned draft picks who have been playing outside the NBA. A drafted player, either an international draftee or a college draftee who is not signed by the team that drafted him, is allowed to sign with any non-NBA teams. In this case, the team retains the player's draft rights in the NBA until one year after the player's contract with the non-NBA team ends.<sup class=\"reference\" id=\"cite_ref-103\"><a href=\"#cite_note-103\">[103]</a></sup> This list also includes draft rights that were acquired from trades with other teams.\n",
      "</p>, <p><b>Notes:</b>\n",
      "</p>, <p><b>Notes:</b>\n",
      "</p>, <p><b>Bold</b> denotes still active with team.\n",
      "</p>, <p><i>Italic</i> denotes still active but not with team.\n",
      "</p>, <p><b>Other statistics (regular season) (as of the end of the 2020–21 season)</b><sup class=\"reference\" id=\"cite_ref-basketball-reference1_109-1\"><a href=\"#cite_note-basketball-reference1-109\">[109]</a></sup>\n",
      "</p>, <p><b><a class=\"mw-redirect\" href=\"/wiki/National_Basketball_Association_Most_Valuable_Player_Award\" title=\"National Basketball Association Most Valuable Player Award\">NBA MVP</a></b>\n",
      "</p>, <p><b><a href=\"/wiki/NBA_Defensive_Player_of_the_Year_Award\" title=\"NBA Defensive Player of the Year Award\">NBA Defensive Player of the Year</a></b>\n",
      "</p>, <p><b><a href=\"/wiki/NBA_Rookie_of_the_Year_Award\" title=\"NBA Rookie of the Year Award\">NBA Rookie of the Year</a></b>\n",
      "</p>, <p><b><a href=\"/wiki/NBA_Most_Improved_Player_Award\" title=\"NBA Most Improved Player Award\">NBA Most Improved Player of the Year</a></b>\n",
      "</p>, <p><b><a href=\"/wiki/NBA_Sixth_Man_of_the_Year_Award\" title=\"NBA Sixth Man of the Year Award\">NBA Sixth Man of the Year</a></b>\n",
      "</p>, <p><b><a href=\"/wiki/NBA_Coach_of_the_Year_Award\" title=\"NBA Coach of the Year Award\">NBA Coach of the Year</a></b>\n",
      "</p>, <p><b><a href=\"/wiki/NBA_Executive_of_the_Year_Award\" title=\"NBA Executive of the Year Award\">NBA Executive of the Year</a></b>\n",
      "</p>, <p><b><a href=\"/wiki/NBA_Sportsmanship_Award\" title=\"NBA Sportsmanship Award\">NBA Sportsmanship Award</a></b>\n",
      "</p>, <p><b><a href=\"/wiki/J._Walter_Kennedy_Citizenship_Award\" title=\"J. Walter Kennedy Citizenship Award\">J. Walter Kennedy Citizenship Award</a></b>\n",
      "</p>, <p><b><a class=\"mw-redirect\" href=\"/wiki/All-NBA_First_Team\" title=\"All-NBA First Team\">All-NBA First Team</a></b>\n",
      "</p>, <p><b><a class=\"mw-redirect\" href=\"/wiki/All-NBA_Second_Team\" title=\"All-NBA Second Team\">All-NBA Second Team</a></b>\n",
      "</p>, <p><b><a class=\"mw-redirect\" href=\"/wiki/All-NBA_Third_Team\" title=\"All-NBA Third Team\">All-NBA Third Team</a></b>\n",
      "</p>, <p><b><a class=\"mw-redirect\" href=\"/wiki/NBA_All-Defensive_First_Team\" title=\"NBA All-Defensive First Team\">NBA All-Defensive First Team</a></b>\n",
      "</p>, <p><b><a class=\"mw-redirect\" href=\"/wiki/NBA_All-Defensive_Second_Team\" title=\"NBA All-Defensive Second Team\">NBA All-Defensive Second Team</a></b>\n",
      "</p>, <p><b><a class=\"mw-redirect\" href=\"/wiki/NBA_All-Rookie_First_Team\" title=\"NBA All-Rookie First Team\">NBA All-Rookie First Team</a></b>\n",
      "</p>, <p><b><a class=\"mw-redirect\" href=\"/wiki/NBA_All-Rookie_Second_Team\" title=\"NBA All-Rookie Second Team\">NBA All-Rookie Second Team</a></b>\n",
      "</p>, <p><b><a href=\"/wiki/NBA_All-Star_Game\" title=\"NBA All-Star Game\">NBA All-Star Game selections</a></b>\n",
      "</p>, <p><b><a href=\"/wiki/List_of_NBA_All-Star_Game_head_coaches\" title=\"List of NBA All-Star Game head coaches\">NBA All-Star Game head coaches</a></b>\n",
      "</p>, <p><b><a class=\"mw-redirect\" href=\"/wiki/NBA_All-Star_Game_MVP\" title=\"NBA All-Star Game MVP\">NBA All-Star Game MVP</a></b>\n",
      "</p>]\n",
      "\n",
      "\n",
      "\n",
      "\n",
      "\n"
     ]
    }
   ],
   "source": [
    "\n",
    "# import required modules\n",
    "from bs4 import BeautifulSoup\n",
    "import requests\n",
    " \n",
    "# get URL\n",
    "page = requests.get('https://en.wikipedia.org/wiki/Atlanta_Hawks')\n",
    " \n",
    "# scrape webpage\n",
    "soup = BeautifulSoup(page.content, 'html.parser')\n",
    " \n",
    "list(soup.children)\n",
    " \n",
    "# find all occurrence of p in HTML\n",
    "# includes HTML tags\n",
    "print(soup.find_all('p'))\n",
    " \n",
    "print('\\n\\n')\n",
    " \n",
    "# return only text\n",
    "# does not include HTML tags\n",
    "print(soup.find_all('p')[0].get_text())"
   ]
  },
  {
   "cell_type": "code",
   "execution_count": 7,
   "id": "dda1fd7b",
   "metadata": {
    "scrolled": true
   },
   "outputs": [
    {
     "name": "stdout",
     "output_type": "stream",
     "text": [
      "Defaulting to user installation because normal site-packages is not writeable\n",
      "Requirement already satisfied: wikipedia in /Users/jaeyoungkim/.local/lib/python3.7/site-packages (1.4.0)\n",
      "Requirement already satisfied: beautifulsoup4 in /Users/jaeyoungkim/.local/lib/python3.7/site-packages (from wikipedia) (4.7.1)\n",
      "Requirement already satisfied: requests<3.0.0,>=2.0.0 in /Users/jaeyoungkim/.local/lib/python3.7/site-packages (from wikipedia) (2.26.0)\n",
      "Requirement already satisfied: certifi>=2017.4.17 in /Users/jaeyoungkim/.local/lib/python3.7/site-packages (from requests<3.0.0,>=2.0.0->wikipedia) (2021.5.30)\n",
      "Requirement already satisfied: urllib3<1.27,>=1.21.1 in /Users/jaeyoungkim/.local/lib/python3.7/site-packages (from requests<3.0.0,>=2.0.0->wikipedia) (1.26.6)\n",
      "Requirement already satisfied: charset-normalizer~=2.0.0 in /Users/jaeyoungkim/.local/lib/python3.7/site-packages (from requests<3.0.0,>=2.0.0->wikipedia) (2.0.4)\n",
      "Requirement already satisfied: idna<4,>=2.5 in /Users/jaeyoungkim/.local/lib/python3.7/site-packages (from requests<3.0.0,>=2.0.0->wikipedia) (3.2)\n",
      "Requirement already satisfied: soupsieve>=1.2 in /Users/jaeyoungkim/.local/lib/python3.7/site-packages (from beautifulsoup4->wikipedia) (2.3.1)\n",
      "\u001b[33mWARNING: You are using pip version 21.3.1; however, version 22.0.4 is available.\n",
      "You should consider upgrading via the '/opt/anaconda3/envs/jaeyoung/bin/python -m pip install --upgrade pip' command.\u001b[0m\n"
     ]
    }
   ],
   "source": [
    "!pip install wikipedia"
   ]
  },
  {
   "cell_type": "code",
   "execution_count": 11,
   "id": "856b3b3f",
   "metadata": {},
   "outputs": [],
   "source": [
    "import pandas as pd\n",
    "from SPARQLWrapper import SPARQLWrapper, JSON\n",
    "from tqdm import tqdm\n",
    "from urllib.request import urlopen\n",
    "from bs4 import BeautifulSoup\n",
    "import re\n",
    "import wikipedia"
   ]
  },
  {
   "cell_type": "code",
   "execution_count": 9,
   "id": "f73bb4ad",
   "metadata": {},
   "outputs": [],
   "source": [
    "import time\n",
    "from tqdm import tqdm"
   ]
  },
  {
   "cell_type": "code",
   "execution_count": 51,
   "id": "0728dc29",
   "metadata": {},
   "outputs": [
    {
     "data": {
      "text/plain": [
       "['Q796293', '6474']"
      ]
     },
     "execution_count": 51,
     "metadata": {},
     "output_type": "execute_result"
    }
   ],
   "source": [
    "data[6474]"
   ]
  },
  {
   "cell_type": "code",
   "execution_count": 52,
   "id": "2e09118a",
   "metadata": {},
   "outputs": [
    {
     "data": {
      "text/plain": [
       "['Q753711', '12202']"
      ]
     },
     "execution_count": 52,
     "metadata": {},
     "output_type": "execute_result"
    }
   ],
   "source": [
    "data[6474 + 5728]"
   ]
  },
  {
   "cell_type": "code",
   "execution_count": 53,
   "id": "2f920a42",
   "metadata": {},
   "outputs": [
    {
     "data": {
      "text/plain": [
       "['Q590307', '13968']"
      ]
     },
     "execution_count": 53,
     "metadata": {},
     "output_type": "execute_result"
    }
   ],
   "source": [
    "data[6474 + 5728 + 1766]"
   ]
  },
  {
   "cell_type": "code",
   "execution_count": 54,
   "id": "ea6bfa19",
   "metadata": {},
   "outputs": [
    {
     "data": {
      "text/plain": [
       "['Q18154825', '15458']"
      ]
     },
     "execution_count": 54,
     "metadata": {},
     "output_type": "execute_result"
    }
   ],
   "source": [
    "data[6474 + 5728 + 1766 + 1490]"
   ]
  },
  {
   "cell_type": "code",
   "execution_count": 61,
   "id": "44bd3a8b",
   "metadata": {},
   "outputs": [
    {
     "ename": "KeyError",
     "evalue": "'Q796293'",
     "output_type": "error",
     "traceback": [
      "\u001b[0;31m---------------------------------------------------------------------------\u001b[0m",
      "\u001b[0;31mKeyError\u001b[0m                                  Traceback (most recent call last)",
      "\u001b[0;32m/var/folders/27/fcv785895zb4wczv3dzgn3gh0000gn/T/ipykernel_60859/412935453.py\u001b[0m in \u001b[0;36m<module>\u001b[0;34m\u001b[0m\n\u001b[0;32m----> 1\u001b[0;31m \u001b[0mqnode2description\u001b[0m\u001b[0;34m[\u001b[0m\u001b[0;34m'Q796293'\u001b[0m\u001b[0;34m]\u001b[0m\u001b[0;34m\u001b[0m\u001b[0;34m\u001b[0m\u001b[0m\n\u001b[0m",
      "\u001b[0;31mKeyError\u001b[0m: 'Q796293'"
     ]
    }
   ],
   "source": [
    "qnode2description['Q796293']"
   ]
  },
  {
   "cell_type": "code",
   "execution_count": 62,
   "id": "7ecb9223",
   "metadata": {},
   "outputs": [],
   "source": [
    "qnode2description['Q796293'] = None"
   ]
  },
  {
   "cell_type": "code",
   "execution_count": null,
   "id": "f937c2ab",
   "metadata": {},
   "outputs": [],
   "source": [
    "qnode2description = dict()"
   ]
  },
  {
   "cell_type": "code",
   "execution_count": 71,
   "id": "00436c61",
   "metadata": {
    "scrolled": true
   },
   "outputs": [
    {
     "name": "stderr",
     "output_type": "stream",
     "text": [
      "  0%|▌                                                                                                                                                    | 71/19213 [02:56<13:53:03,  2.61s/it]"
     ]
    },
    {
     "name": "stdout",
     "output_type": "stream",
     "text": [
      "error 0\n"
     ]
    },
    {
     "name": "stderr",
     "output_type": "stream",
     "text": [
      "  1%|▊                                                                                                                                                   | 101/19213 [04:05<14:10:18,  2.67s/it]"
     ]
    },
    {
     "name": "stdout",
     "output_type": "stream",
     "text": [
      "error 0\n",
      "error 1\n",
      "error 2\n"
     ]
    },
    {
     "name": "stderr",
     "output_type": "stream",
     "text": [
      " 10%|██████████████▍                                                                                                                                  | 1907/19213 [1:16:22<12:29:44,  2.60s/it]"
     ]
    },
    {
     "name": "stdout",
     "output_type": "stream",
     "text": [
      "error 0\n",
      "error 1\n"
     ]
    },
    {
     "name": "stderr",
     "output_type": "stream",
     "text": [
      " 11%|███████████████▎                                                                                                                                 | 2031/19213 [1:21:03<12:03:46,  2.53s/it]"
     ]
    },
    {
     "name": "stdout",
     "output_type": "stream",
     "text": [
      "error 0\n"
     ]
    },
    {
     "name": "stderr",
     "output_type": "stream",
     "text": [
      " 11%|███████████████▎                                                                                                                                 | 2034/19213 [1:21:09<10:52:33,  2.28s/it]"
     ]
    },
    {
     "name": "stdout",
     "output_type": "stream",
     "text": [
      "error 0\n",
      "error 1\n",
      "error 2\n",
      "error 3\n"
     ]
    },
    {
     "name": "stderr",
     "output_type": "stream",
     "text": [
      " 11%|███████████████▍                                                                                                                                 | 2041/19213 [1:21:25<11:36:27,  2.43s/it]"
     ]
    },
    {
     "name": "stdout",
     "output_type": "stream",
     "text": [
      "error 0\n"
     ]
    },
    {
     "name": "stderr",
     "output_type": "stream",
     "text": [
      " 11%|████████████████▎                                                                                                                                | 2167/19213 [1:26:22<14:35:41,  3.08s/it]"
     ]
    },
    {
     "name": "stdout",
     "output_type": "stream",
     "text": [
      "error 0\n",
      "error 1\n",
      "error 2\n"
     ]
    },
    {
     "name": "stderr",
     "output_type": "stream",
     "text": [
      " 12%|█████████████████▎                                                                                                                               | 2295/19213 [1:31:26<11:32:11,  2.45s/it]"
     ]
    },
    {
     "name": "stdout",
     "output_type": "stream",
     "text": [
      "error 0\n"
     ]
    },
    {
     "name": "stderr",
     "output_type": "stream",
     "text": [
      " 16%|███████████████████████▍                                                                                                                          | 3081/19213 [2:03:44<9:02:11,  2.02s/it]"
     ]
    },
    {
     "name": "stdout",
     "output_type": "stream",
     "text": [
      "error 0\n"
     ]
    },
    {
     "name": "stderr",
     "output_type": "stream",
     "text": [
      " 19%|██████████████████████████▊                                                                                                                      | 3560/19213 [2:23:02<10:52:52,  2.50s/it]"
     ]
    },
    {
     "name": "stdout",
     "output_type": "stream",
     "text": [
      "error 0\n",
      "error 1\n"
     ]
    },
    {
     "name": "stderr",
     "output_type": "stream",
     "text": [
      " 20%|█████████████████████████████▏                                                                                                                    | 3839/19213 [2:33:42<6:35:58,  1.55s/it]"
     ]
    },
    {
     "name": "stdout",
     "output_type": "stream",
     "text": [
      "error 0\n"
     ]
    },
    {
     "name": "stderr",
     "output_type": "stream",
     "text": [
      " 24%|███████████████████████████████████▍                                                                                                              | 4658/19213 [3:07:01<6:16:45,  1.55s/it]"
     ]
    },
    {
     "name": "stdout",
     "output_type": "stream",
     "text": [
      "error 0\n"
     ]
    },
    {
     "name": "stderr",
     "output_type": "stream",
     "text": [
      " 25%|████████████████████████████████████▏                                                                                                             | 4759/19213 [3:11:03<9:07:53,  2.27s/it]"
     ]
    },
    {
     "name": "stdout",
     "output_type": "stream",
     "text": [
      "error 0\n",
      "error 1\n"
     ]
    },
    {
     "name": "stderr",
     "output_type": "stream",
     "text": [
      " 29%|█████████████████████████████████████████▊                                                                                                       | 5536/19213 [3:43:50<10:27:35,  2.75s/it]"
     ]
    },
    {
     "name": "stdout",
     "output_type": "stream",
     "text": [
      "error 0\n",
      "error 1\n"
     ]
    },
    {
     "name": "stderr",
     "output_type": "stream",
     "text": [
      " 30%|███████████████████████████████████████████▍                                                                                                      | 5710/19213 [3:51:08<8:16:23,  2.21s/it]"
     ]
    },
    {
     "name": "stdout",
     "output_type": "stream",
     "text": [
      "error 0\n"
     ]
    },
    {
     "name": "stderr",
     "output_type": "stream",
     "text": [
      " 30%|███████████████████████████████████████████▍                                                                                                      | 5721/19213 [3:51:39<9:58:46,  2.66s/it]"
     ]
    },
    {
     "name": "stdout",
     "output_type": "stream",
     "text": [
      "error 0\n"
     ]
    },
    {
     "name": "stderr",
     "output_type": "stream",
     "text": [
      " 30%|███████████████████████████████████████████▋                                                                                                      | 5757/19213 [3:53:13<8:34:22,  2.29s/it]"
     ]
    },
    {
     "name": "stdout",
     "output_type": "stream",
     "text": [
      "error 0\n",
      "error 1\n"
     ]
    },
    {
     "name": "stderr",
     "output_type": "stream",
     "text": [
      " 31%|█████████████████████████████████████████████                                                                                                     | 5937/19213 [4:00:55<9:43:37,  2.64s/it]"
     ]
    },
    {
     "name": "stdout",
     "output_type": "stream",
     "text": [
      "error 0\n"
     ]
    },
    {
     "name": "stderr",
     "output_type": "stream",
     "text": [
      " 31%|█████████████████████████████████████████████▏                                                                                                    | 5940/19213 [4:01:02<8:45:52,  2.38s/it]"
     ]
    },
    {
     "name": "stdout",
     "output_type": "stream",
     "text": [
      "error 0\n",
      "error 1\n"
     ]
    },
    {
     "name": "stderr",
     "output_type": "stream",
     "text": [
      " 31%|█████████████████████████████████████████████▋                                                                                                    | 6012/19213 [4:04:06<9:48:23,  2.67s/it]"
     ]
    },
    {
     "name": "stdout",
     "output_type": "stream",
     "text": [
      "error 0\n"
     ]
    },
    {
     "name": "stderr",
     "output_type": "stream",
     "text": [
      " 31%|█████████████████████████████████████████████▋                                                                                                    | 6017/19213 [4:04:17<9:08:38,  2.49s/it]"
     ]
    },
    {
     "name": "stdout",
     "output_type": "stream",
     "text": [
      "error 0\n"
     ]
    },
    {
     "name": "stderr",
     "output_type": "stream",
     "text": [
      " 33%|████████████████████████████████████████████████▋                                                                                                 | 6414/19213 [4:21:18<7:42:44,  2.17s/it]"
     ]
    },
    {
     "name": "stdout",
     "output_type": "stream",
     "text": [
      "error 0\n"
     ]
    },
    {
     "name": "stderr",
     "output_type": "stream",
     "text": [
      " 36%|█████████████████████████████████████████████████████▏                                                                                            | 6999/19213 [4:46:21<9:31:18,  2.81s/it]"
     ]
    },
    {
     "name": "stdout",
     "output_type": "stream",
     "text": [
      "error 0\n"
     ]
    },
    {
     "name": "stderr",
     "output_type": "stream",
     "text": [
      " 37%|██████████████████████████████████████████████████████▌                                                                                           | 7181/19213 [4:53:50<7:30:10,  2.24s/it]"
     ]
    },
    {
     "name": "stdout",
     "output_type": "stream",
     "text": [
      "error 0\n",
      "error 1\n"
     ]
    },
    {
     "name": "stderr",
     "output_type": "stream",
     "text": [
      " 39%|████████████████████████████████████████████████████████▍                                                                                         | 7426/19213 [5:04:13<6:12:38,  1.90s/it]"
     ]
    },
    {
     "name": "stdout",
     "output_type": "stream",
     "text": [
      "error 0\n"
     ]
    },
    {
     "name": "stderr",
     "output_type": "stream",
     "text": [
      " 39%|█████████████████████████████████████████████████████████▌                                                                                        | 7581/19213 [5:10:53<8:47:36,  2.72s/it]"
     ]
    },
    {
     "name": "stdout",
     "output_type": "stream",
     "text": [
      "error 0\n"
     ]
    },
    {
     "name": "stderr",
     "output_type": "stream",
     "text": [
      " 42%|█████████████████████████████████████████████████████████████▋                                                                                    | 8116/19213 [5:33:20<5:44:05,  1.86s/it]"
     ]
    },
    {
     "name": "stdout",
     "output_type": "stream",
     "text": [
      "error 0\n"
     ]
    },
    {
     "name": "stderr",
     "output_type": "stream",
     "text": [
      " 43%|██████████████████████████████████████████████████████████████▏                                                                                   | 8183/19213 [5:36:18<7:51:18,  2.56s/it]"
     ]
    },
    {
     "name": "stdout",
     "output_type": "stream",
     "text": [
      "error 0\n"
     ]
    },
    {
     "name": "stderr",
     "output_type": "stream",
     "text": [
      " 44%|████████████████████████████████████████████████████████████████                                                                                  | 8433/19213 [5:47:12<7:44:57,  2.59s/it]"
     ]
    },
    {
     "name": "stdout",
     "output_type": "stream",
     "text": [
      "error 0\n",
      "error 1\n",
      "error 2\n"
     ]
    },
    {
     "name": "stderr",
     "output_type": "stream",
     "text": [
      " 47%|████████████████████████████████████████████████████████████████████▏                                                                             | 8979/19213 [6:10:50<7:44:29,  2.72s/it]"
     ]
    },
    {
     "name": "stdout",
     "output_type": "stream",
     "text": [
      "error 0\n"
     ]
    },
    {
     "name": "stderr",
     "output_type": "stream",
     "text": [
      " 47%|████████████████████████████████████████████████████████████████████▎                                                                             | 8987/19213 [6:11:05<5:16:13,  1.86s/it]"
     ]
    },
    {
     "name": "stdout",
     "output_type": "stream",
     "text": [
      "error 0\n"
     ]
    },
    {
     "name": "stderr",
     "output_type": "stream",
     "text": [
      " 47%|█████████████████████████████████████████████████████████████████████▏                                                                            | 9109/19213 [6:16:22<7:43:24,  2.75s/it]"
     ]
    },
    {
     "name": "stdout",
     "output_type": "stream",
     "text": [
      "error 0\n"
     ]
    },
    {
     "name": "stderr",
     "output_type": "stream",
     "text": [
      " 48%|██████████████████████████████████████████████████████████████████████▌                                                                           | 9281/19213 [6:23:40<5:29:43,  1.99s/it]"
     ]
    },
    {
     "name": "stdout",
     "output_type": "stream",
     "text": [
      "error 0\n"
     ]
    },
    {
     "name": "stderr",
     "output_type": "stream",
     "text": [
      " 49%|███████████████████████████████████████████████████████████████████████                                                                           | 9344/19213 [6:26:22<7:03:21,  2.57s/it]"
     ]
    },
    {
     "name": "stdout",
     "output_type": "stream",
     "text": [
      "error 0\n"
     ]
    },
    {
     "name": "stderr",
     "output_type": "stream",
     "text": [
      " 52%|███████████████████████████████████████████████████████████████████████████▌                                                                     | 10005/19213 [6:53:44<4:45:42,  1.86s/it]"
     ]
    },
    {
     "name": "stdout",
     "output_type": "stream",
     "text": [
      "error 0\n"
     ]
    },
    {
     "name": "stderr",
     "output_type": "stream",
     "text": [
      " 52%|████████████████████████████████████████████████████████████████████████████                                                                     | 10084/19213 [6:57:02<4:56:35,  1.95s/it]"
     ]
    },
    {
     "name": "stdout",
     "output_type": "stream",
     "text": [
      "error 0\n"
     ]
    },
    {
     "name": "stderr",
     "output_type": "stream",
     "text": [
      " 53%|█████████████████████████████████████████████████████████████████████████████▎                                                                   | 10237/19213 [7:03:24<6:01:40,  2.42s/it]"
     ]
    },
    {
     "name": "stdout",
     "output_type": "stream",
     "text": [
      "error 0\n"
     ]
    },
    {
     "name": "stderr",
     "output_type": "stream",
     "text": [
      "\r",
      " 53%|█████████████████████████████████████████████████████████████████████████████▎                                                                   | 10238/19213 [7:03:25<4:50:30,  1.94s/it]"
     ]
    },
    {
     "name": "stdout",
     "output_type": "stream",
     "text": [
      "error 1\n"
     ]
    },
    {
     "name": "stderr",
     "output_type": "stream",
     "text": [
      " 56%|████████████████████████████████████████████████████████████████████████████████▌                                                                | 10678/19213 [7:21:46<6:05:41,  2.57s/it]"
     ]
    },
    {
     "name": "stdout",
     "output_type": "stream",
     "text": [
      "error 0\n",
      "error 1\n"
     ]
    },
    {
     "name": "stderr",
     "output_type": "stream",
     "text": [
      "\r",
      " 56%|████████████████████████████████████████████████████████████████████████████████▌                                                                | 10679/19213 [7:21:47<4:56:11,  2.08s/it]"
     ]
    },
    {
     "name": "stdout",
     "output_type": "stream",
     "text": [
      "error 0\n"
     ]
    },
    {
     "name": "stderr",
     "output_type": "stream",
     "text": [
      " 56%|████████████████████████████████████████████████████████████████████████████████▋                                                                | 10686/19213 [7:22:02<4:53:09,  2.06s/it]"
     ]
    },
    {
     "name": "stdout",
     "output_type": "stream",
     "text": [
      "error 0\n"
     ]
    },
    {
     "name": "stderr",
     "output_type": "stream",
     "text": [
      " 57%|██████████████████████████████████████████████████████████████████████████████████▋                                                              | 10949/19213 [7:33:12<5:58:40,  2.60s/it]"
     ]
    },
    {
     "name": "stdout",
     "output_type": "stream",
     "text": [
      "error 0\n"
     ]
    },
    {
     "name": "stderr",
     "output_type": "stream",
     "text": [
      " 57%|███████████████████████████████████████████████████████████████████████████████████▏                                                             | 11024/19213 [7:36:20<4:29:54,  1.98s/it]"
     ]
    },
    {
     "name": "stdout",
     "output_type": "stream",
     "text": [
      "error 0\n"
     ]
    },
    {
     "name": "stderr",
     "output_type": "stream",
     "text": [
      " 58%|████████████████████████████████████████████████████████████████████████████████████▍                                                            | 11187/19213 [7:43:22<6:44:48,  3.03s/it]"
     ]
    },
    {
     "name": "stdout",
     "output_type": "stream",
     "text": [
      "error 0\n",
      "error 1\n"
     ]
    },
    {
     "name": "stderr",
     "output_type": "stream",
     "text": [
      " 61%|███████████████████████████████████████████████████████████████████████████████████████▋                                                         | 11624/19213 [8:01:08<5:32:53,  2.63s/it]"
     ]
    },
    {
     "name": "stdout",
     "output_type": "stream",
     "text": [
      "error 0\n"
     ]
    },
    {
     "name": "stderr",
     "output_type": "stream",
     "text": [
      " 61%|███████████████████████████████████████████████████████████████████████████████████████▋                                                         | 11626/19213 [8:01:11<4:49:41,  2.29s/it]"
     ]
    },
    {
     "name": "stdout",
     "output_type": "stream",
     "text": [
      "error 0\n",
      "error 1\n"
     ]
    },
    {
     "name": "stderr",
     "output_type": "stream",
     "text": [
      " 61%|████████████████████████████████████████████████████████████████████████████████████████▏                                                        | 11684/19213 [8:03:29<5:51:19,  2.80s/it]"
     ]
    },
    {
     "name": "stdout",
     "output_type": "stream",
     "text": [
      "error 0\n",
      "error 1\n",
      "error 2\n",
      "error 3\n",
      "error 4\n"
     ]
    },
    {
     "name": "stderr",
     "output_type": "stream",
     "text": [
      "\r",
      " 61%|████████████████████████████████████████████████████████████████████████████████████████▏                                                        | 11685/19213 [8:03:31<5:12:54,  2.49s/it]"
     ]
    },
    {
     "name": "stdout",
     "output_type": "stream",
     "text": [
      "error 5\n"
     ]
    },
    {
     "name": "stderr",
     "output_type": "stream",
     "text": [
      " 63%|███████████████████████████████████████████████████████████████████████████████████████████▉                                                     | 12178/19213 [8:23:56<3:55:28,  2.01s/it]"
     ]
    },
    {
     "name": "stdout",
     "output_type": "stream",
     "text": [
      "error 0\n"
     ]
    },
    {
     "name": "stderr",
     "output_type": "stream",
     "text": [
      " 65%|██████████████████████████████████████████████████████████████████████████████████████████████▏                                                  | 12476/19213 [8:36:03<5:15:14,  2.81s/it]"
     ]
    },
    {
     "name": "stdout",
     "output_type": "stream",
     "text": [
      "error 0\n"
     ]
    },
    {
     "name": "stderr",
     "output_type": "stream",
     "text": [
      " 65%|██████████████████████████████████████████████████████████████████████████████████████████████▏                                                  | 12480/19213 [8:36:11<3:44:52,  2.00s/it]"
     ]
    },
    {
     "name": "stdout",
     "output_type": "stream",
     "text": [
      "error 0\n"
     ]
    },
    {
     "name": "stderr",
     "output_type": "stream",
     "text": [
      " 70%|██████████████████████████████████████████████████████████████████████████████████████████████████████                                           | 13529/19213 [9:21:22<4:06:54,  2.61s/it]"
     ]
    },
    {
     "name": "stdout",
     "output_type": "stream",
     "text": [
      "error 0\n"
     ]
    },
    {
     "name": "stderr",
     "output_type": "stream",
     "text": [
      " 70%|██████████████████████████████████████████████████████████████████████████████████████████████████████▏                                          | 13533/19213 [9:21:31<3:55:03,  2.48s/it]"
     ]
    },
    {
     "name": "stdout",
     "output_type": "stream",
     "text": [
      "error 0\n",
      "error 1\n",
      "error 2\n"
     ]
    },
    {
     "name": "stderr",
     "output_type": "stream",
     "text": [
      " 73%|█████████████████████████████████████████████████████████████████████████████████████████████████████████▌                                       | 13986/19213 [9:41:25<4:03:43,  2.80s/it]"
     ]
    },
    {
     "name": "stdout",
     "output_type": "stream",
     "text": [
      "error 0\n"
     ]
    },
    {
     "name": "stderr",
     "output_type": "stream",
     "text": [
      " 73%|█████████████████████████████████████████████████████████████████████████████████████████████████████████▌                                       | 13988/19213 [9:41:29<3:24:14,  2.35s/it]"
     ]
    },
    {
     "name": "stdout",
     "output_type": "stream",
     "text": [
      "error 0\n"
     ]
    },
    {
     "name": "stderr",
     "output_type": "stream",
     "text": [
      " 75%|████████████████████████████████████████████████████████████████████████████████████████████████████████████▎                                    | 14345/19213 [9:56:37<3:31:52,  2.61s/it]"
     ]
    },
    {
     "name": "stdout",
     "output_type": "stream",
     "text": [
      "error 0\n",
      "error 1\n",
      "error 2\n"
     ]
    },
    {
     "name": "stderr",
     "output_type": "stream",
     "text": [
      " 75%|████████████████████████████████████████████████████████████████████████████████████████████████████████████▎                                   | 14445/19213 [10:01:15<2:35:51,  1.96s/it]"
     ]
    },
    {
     "name": "stdout",
     "output_type": "stream",
     "text": [
      "error 0\n"
     ]
    },
    {
     "name": "stderr",
     "output_type": "stream",
     "text": [
      " 77%|██████████████████████████████████████████████████████████████████████████████████████████████████████████████▏                                 | 14707/19213 [10:12:53<2:39:16,  2.12s/it]"
     ]
    },
    {
     "name": "stdout",
     "output_type": "stream",
     "text": [
      "error 0\n"
     ]
    },
    {
     "name": "stderr",
     "output_type": "stream",
     "text": [
      " 80%|███████████████████████████████████████████████████████████████████████████████████████████████████████████████████                             | 15359/19213 [10:41:24<2:29:51,  2.33s/it]"
     ]
    },
    {
     "name": "stdout",
     "output_type": "stream",
     "text": [
      "error 0\n"
     ]
    },
    {
     "name": "stderr",
     "output_type": "stream",
     "text": [
      " 80%|███████████████████████████████████████████████████████████████████████████████████████████████████████████████████▏                            | 15369/19213 [10:41:46<2:43:35,  2.55s/it]"
     ]
    },
    {
     "name": "stdout",
     "output_type": "stream",
     "text": [
      "error 0\n"
     ]
    },
    {
     "name": "stderr",
     "output_type": "stream",
     "text": [
      "100%|██████████████████████████████████████████████████████████████████████████████████████████████████████████████████████████████████████████████████| 19213/19213 [10:45:39<00:00,  2.02s/it]\n"
     ]
    }
   ],
   "source": [
    "for qnode, idx in tqdm(data):\n",
    "    if qnode not in qnode2description:\n",
    "        url = get_wikipedia_url_from_wikidata_id(qnode)\n",
    "        count = 0\n",
    "        # Specify url of the web page\n",
    "        if url:\n",
    "            try:\n",
    "                source = urlopen(url).read()\n",
    "            except:\n",
    "                name = url.split(\"/\")[-1]\n",
    "                name = urllib.parse.quote(name.encode('utf-8'))\n",
    "                tmp = url.split('/')\n",
    "                tmp[-1] = name\n",
    "                url = \"/\".join(tmp)\n",
    "                source = urlopen(url).read()\n",
    "\n",
    "            # Make a soup \n",
    "            soup = BeautifulSoup(source,'lxml')\n",
    "            soup\n",
    "\n",
    "            # Extract the plain text content from paragraphs\n",
    "            paras = []\n",
    "            for paragraph in soup.find_all('p'):\n",
    "                paras.append(str(paragraph.text))\n",
    "\n",
    "            # Extract text from paragraph headers\n",
    "            heads = []\n",
    "            for head in soup.find_all('span', attrs={'mw-headline'}):\n",
    "                heads.append(str(head.text))\n",
    "\n",
    "            # Interleave paragraphs & headers\n",
    "            text = [val for pair in zip(paras, heads) for val in pair]\n",
    "            text = ' '.join(text)\n",
    "\n",
    "            # Drop footnote superscripts in brackets\n",
    "            text = re.sub(r\"\\[.*?\\]+\", '', text)\n",
    "\n",
    "            # Replace '\\n' (a new line) with '' and end the string at $1000.\n",
    "            text = text.replace('\\n', '')[:-11]\n",
    "\n",
    "            qnode2description[qnode] = text\n",
    "            time.sleep(2)\n",
    "        else:\n",
    "            sparql = SPARQLWrapper(\"https://query.wikidata.org/sparql\")\n",
    "\n",
    "            connected = False    \n",
    "            while connected == False:\n",
    "                try:\n",
    "                    query = '''\n",
    "                    PREFIX wd: <http://www.wikidata.org/entity/>\n",
    "                    PREFIX schema: <http://schema.org/>\n",
    "\n",
    "                    SELECT ?o\n",
    "                    WHERE \n",
    "                    {\n",
    "                      wd:''' + qnode + ''' schema:description ?o.\n",
    "                      FILTER ( lang(?o) = \"en\" )\n",
    "                    }\n",
    "                    '''\n",
    "                    sparql.setQuery(query)\n",
    "                    sparql.setReturnFormat(JSON)\n",
    "\n",
    "                    results = sparql.query().convert()\n",
    "                    try:\n",
    "                        res = results[\"results\"]['bindings'][0]['o']['value']\n",
    "            #             print(qnode + \"\\t\" + res)\n",
    "                        qnode2description[qnode] = res\n",
    "                    except:\n",
    "                        qnode2description[qnode] = None\n",
    "                    connected = True\n",
    "                except:\n",
    "                    print(\"error\", count)\n",
    "                    count += 1"
   ]
  },
  {
   "cell_type": "code",
   "execution_count": 73,
   "id": "274b9284",
   "metadata": {},
   "outputs": [],
   "source": [
    "import pickle\n",
    "with open('qnode2description.data', 'wb') as f:\n",
    "    pickle.dump(qnode2description, f)"
   ]
  },
  {
   "cell_type": "code",
   "execution_count": 74,
   "id": "99193a53",
   "metadata": {},
   "outputs": [
    {
     "data": {
      "text/plain": [
       "19213"
      ]
     },
     "execution_count": 74,
     "metadata": {},
     "output_type": "execute_result"
    }
   ],
   "source": [
    "len(qnode2description)"
   ]
  },
  {
   "cell_type": "code",
   "execution_count": 97,
   "id": "f0060924",
   "metadata": {
    "scrolled": false
   },
   "outputs": [
    {
     "data": {
      "text/plain": [
       "'Asociația Club Sportiv CAO 1910 Oradea, commonly known as Club Atletic Oradea (Romanian pronunciation:\\xa0), CA Oradea, or simply as CAO, is an amateur Romanian football club based in Oradea, Bihor County. History The team was founded as Nagyváradi Atletikai Club in 1910, when the city was part of Hungary. Over its history, CAO has won one Romanian national title, one Hungarian national title, and one Romanian national cup. It was dissolved in 1963, but was re-established in 2017 and commenced play in the fifth division. Early years (1910–1940) The home ground of \"the White and Greens\" is the Stadionul Iuliu Bodola, which has a seating capacity of 11,155. The Romanian-Hungarian champion (1940–1963) The game of football had arrived to Nagyvárad (Oradea) in 1902 with inhabitants returning from study or work, abroad or in Budapest. The sport was gaining in popularity, but there was not yet an organized club to represent the town in matches against other towns. Refounding (2017–present) Established in 1910, when the city was part of Hungary, Nagyváradi Atletikai Club – in Romanian: Club Atletic Oradea – will soon become the symbol of the football from Oradea. Its initials, NAC, then CAO, will require respect. The colors of the club were white and green. The constituent assembly was held on 25 May 1910, in the Emke Café, the board of directors being Dr. Emil Jonas, chairman, Béla Mikló, executive president, Andor Szabo, secretary, and Dr. Kálmán Kovács, cashier, and the affiliation to the Hungarian Football Federation was sought. On 31 July NAC played its first game, against KVSC, and in January 1912 a home ground was secured in Rhedey Park (where the zoo now stands). The next month, a touring team from England came to town: Bishop Auckland, the Northern League champions that season, beat NAC 8–0. Crest and colours Before World War I, the club activated only on local and a regional level, they joined the eastern division of the Southern Hungarian League and in 1913 NAC won 25 of their 31 matches. In 1914, as champions of the division, NAC was entitled to participate in the national finals tournament in Budapest, but this competition never took place due to the outbreak of war in June. Crest After the war, by the Treaty of Trianon Nagyvárad became part of Romania and officially became Oradea. The club and the city were still dominated by Hungarians. One of the most talented local players unearthed during this period was Elemér Berkessy (future FC Barcelona midfielder and Grimsby Town manager – in 1954 he became the first foreign manager in the English league). Colours and Kits The team joined the Romanian national championship in 1921–22, but NAC – now also known as Clubul Atletic Oradea – was beaten in the \"fight\" for Town of Oradea champion title by Stăruința Oradea and then by Înțelegerea Oradea for the first few seasons, thus did not qualify for the national finals until 1923–24. They beat Universitatea Cluj and Jahn Cernăuți, before defeat in the final by Chinezul Timișoara – who would win the first six Romanian titles after the Great Union. Grounds In 1932–33, after another spell confined to the regional tournament, CAO appeared in an expanded national competition, organized as two parallel leagues of seven teams; they finished second in their division, while local rivals Crișana Oradea came third in the other one. Two years later,with the national league reorganized into one division, CAO finished as runners-up, sandwiched between the two dominant clubs of the period, Ripensia Timișoara and Venus București. In 1938–39 the club was relegated to a restructured Divizia B, where they remained until the next war brought a strange upturn in fortunes. Support In 1932, the management of the club decided that contact with football in other countries would help the development of the sport in Oradea. So they undertook a twelve-match tour in France and Switzerland, during which they beat Olympique Lillois, who would that season become inaugural French national champions, 5–2. The following year the tour was in France and its North African colonies, and Oradea was spreading its fame, and that of Romanian football, around the continent. During the interwar period CAO supplied eighteen Romanian internationals, however the majority were still ethnic Hungarians, Jews and Germans. Rivalries Players who starred in CAO\\'s green and white stripes in this period included: Ferenc Rónay, the first ever goalscorer for the Romanian national football team (against Yugoslavia in 1922); Nicolae Kovács, a forward who was one of only five men to play at the first three World Cups; Iuliu Baratky, a Hungarian from Oradea who opted to stay in Romania throughout the World War II, becoming a legend at Rapid București and Iuliu Bodola, a prolific goalscorer throughout the 1930s and into the 1940s. Bodola was transferred to Venus București in the Romanian capital in 1937. Youth program  Honours The Second Vienna Award in August 1940 annexed northern Transylvania, including Oradea, to Hitler’s ally Hungary, while Romania was in the throes of its own right-wing military dictatorship. Many footballers of German or Hungarian origin who were at clubs in Bucharest, Timișoara, Arad or other parts of Romania, crossed the new border into this region and joined clubs in Oradea (Nagyvárad) or Cluj-Napoca (Kolozsvár); many of them signed for CAO – now, once again, known officially by its Hungarian name, NAC. After one season back in a Transylvanian league, NAC was promoted to the Hungarian top division. They finished second in 1942–43 and then in 1943–44 they became the first team from outside Budapest to win the Hungarian championship in its 43-year history, finishing a huge 13 points ahead of the second placed team Ferencváros. Romania The players who helped the club to this historic achievement included some major Hungarian and Romanian footballers of the age: Leagues Gyula Lóránt was only 20 years old during NAC\\'s title-winning season. He went on to play at Vasas, alongside László Kubala, who in 1949 fled the incoming Communist government and formed a team of Hungarian footballers who would play exhibition matches around Western Europe. Lóránt tried to escape and join Kubala, but was captured and interred, until the national team coach secured his release. Lóránt played for Hungary from 1949 until 1955, encompassing the greatest period of Hungarian success: he played in central defence for the Aranycsapat, the Mighty Magyars of the early 1950s. Besides winning the Romanian championship with UTA Arad and three more Hungarian titles with Honvéd, Lóránt went on to coach Bayern Munich in the late 1970s. Cups Iuliu Bodola or Gyula Bodola was an ethnic Hungarian born in what is now Brașov (then Brassó) in 1912. After a hugely successful seven-year spell as a prolific striker with CAO in the 1930s, and an equally fruitful three years at Venus București, he headed back to Oradea after the annexation of northern Transylvania by Hungary in 1940 and played for NAC for five years. After the war, he moved to Budapest and represented MTK Budapest. During his years in Romania he played 48 times for the Romanian national football team, while from 1940 to 1943 he was a regular for Hungarian national football team. Remarkably, he held the Romanian international goalscoring record for 66 years, from 1931 until 1997, when Gheorghe Hagi overtook his total of 30 goals. The municipal stadium in Oradea is now named after him. Hungary József Pecsovszky known in Romania as Iosif Petschovschi or simply ‘Peci’, was another young member of the successful NAC team and was capped by Hungary at the age of 21. An attacking midfielder from Timișoara, of Hungarian extraction, Peci would later become a hero in Arad due to his starring role in UTA\\'s three league titles in the 1940s,and then won two further championships with CCA București in the 1950s. His first game for Romania was against Hungary in Budapest in 1945, alongside Spielmann and Simatoc; he scored, but Hidegkuti and Puskás scored two each in a 7–2 win for the Magyars. Pecsovszky is one of the all-time greats of Romanian football. Leagues Francisc Spielmann, known in Hungary as Ferenc Sárvári, top-scorer for NAC in their title-winning season, with 23 goals; he was also the Hungarian player of the year. Players The coach of the side throughout NAC\\'s Hungarian period was 1920s CAO hot-shot Ferenc Rónay. First team squad Gusztáv Juhász, also spelled (in Romania) as Gustav Iuhași, had been a regular in midfield for the Romanian national football team since 1934, when he was also part of the CAO team that finished second in the Romanian championship. Together with Bodola and Rudolf Demetrovics, Juhász was part of the great Venus București team of the late 1930s. Out on loan  Second team squad (CAO Primavera) Nicolae Simatoc, a reserve, was the only ethnic Romanian in the NAC squad; he was kept out of the starting line-up by the all-Timișorean midfield of Petschovschi, Demetrovits and Juhász. Simatoc eventually would go on to spend one season alongside Kubala at FC Barcelona, as well as two years at Inter Milan. Out on loan The 1944–45 Hungarian season was abandoned after four games due to the movement of the front, and NAC never played in the Hungarian league again: Northern Transylvania was occupied by Soviet and Romanian troops in 1944 and later reverted to Romania at the end of the war. NAC/CAO changed its name to Libertatea Oradea in 1948, and then to ICO Oradea the following year after the Soviet takeover of Romania. Petschovschi, Bodola and Ronnay left for Ferar Cluj – the third-placed team in Hungary in 1943–44 - while five of the championship-winning team would form the core of a new dominant power in Romania, ITA Arad. Club officials By 1948–49, only three players remained from the great NAC team of 1943–44. And yet ICO Oradea became Romanian champions. Gheorghe Váczi, an ethnic Hungarian who was capped by Romania, contributed 21 goals in 26 matches. They also had names such as Vécsey, Spielmann, Vasile Ion, Bodo, Zilahi, Serfözö or Mircea David and the coach in that year was Nicolae Kovács, former CAO player and brother of the Ștefan Kovács who would coach Ajax to great success in the early 1970s. Board of directors As Progresul Oradea and a Divizia B team, it reached the 1955 Cupa României final which was lost with 6–3 în front of CCA București. The following year as a Divizia A team, the club won the 1956 Cupa României final with 2–0 against Divizia B team Energia Câmpia Turzii. After a brief period as CS Oradea, the name was changed to Crișana Oradea – extremely confusingly, because this had been the name of a completely different club in the town before the war. After yo-yoing between the top two divisions for a few years (Rónay returned as coach in 1962–63), in 1963 the club was dissolved. That same year another club from Oradea won promotion to the top division, Crișul Oradea, a club which was mostly known as FC Bihor Oradea. The city of Oradea blazed brightly in the region\\'s football firmament, with some of Hungary and Romania\\'s greatest players of the age – one cup, and a league title in two countries – but it is now very much in the shadows: FC Bihor was dissolved on 12 January 2016 after a stormy history and in the spring of 2017 this dissolution subsequently realizing a strange reversed situation of the early 1960s. Current technical staff On 22 December 2016 CAO 1910 Association was founded, then on 17 March 2017 the association changed its status as a sports association named: Asociația Clubul Sportiv CAO 1910, thus marking the refoundation of the white and green team. Shirt sponsors and manufacturers The refounding of the club was followed by a marketing promotion period in which, among other things, the official website of the club and the Facebook official page were launched. Chronology of names Then on 28 July 2017 a partnership was signed between CAO and CSM Oradea, the team that took over the FC Bihor Oradea youth academy after its dissolution, but which didn\\'t have a senior squad, so through this partnership CSM Oradea ensured a continuity for the youth players at senior level and CAO assured a youth academy. In the same period the team was enrolled in Liga V. League history At the end of the season CAO had an impressive ranking line, 24 wins, one draw and only one defeat, 146 goals scored and 21 conceded, 73 points, with 15 more than their main promotion rival, Dinamo Oradea. After the promotion, \"the white and greens\" continued their strategy to promote young players, being ranked 2nd in the Liga IV, Bihor series, at the end of the 2018–19 season, 13 points away from the champions, CSC Sânmartin, a team with many players of certain quality and experience, as Salif Nogo, Alexandru Sorian or Florin Pop, among others. Notable former players Club Atletic Oradea\\'s first emblem, used between 1910 and 1919, was an almost replica of River Plate crest, the differences consist of a green sash instead of a red one, and also the initials NAC (Nagyváradi Atletikai Club) wrote on diagonal, in opposition with the sash. For the next 20 years (1920–1940), the club used the first logo that introduced the green stripes, positioned on a white background, inside of a brown circle. On the logo were the two initials, CAO (Club Atletic Oradea) and NAC, as a symbol of the Romanian-Hungarian culture and friendship that existed around the club. Notable former managers In 1930, at the 20th anniversary of the club, the administrative staff decided to make a special logo. They modified the current logo, changing the places between the white background and green lines. At the time, the club was in the Hungarian championship, so on the top of the crest appeared only NAC, as an abbreviation, wrote with gold colour. On the sides appeared the laurels and on the bottom of the logo, on two different ribbons were marked the year of foundation (1910) and the current year (1930). Management The last form of the logo with Hungarian influences was during the 1940s, with the same white and green stripes, now having some gold lines between them. On the top of the logo was written Nagyváradi AC, on the bottom, the year of foundation 1910 and in the middle was placed a local coat of arms. References After 1945, the club was moved back in Romania, but this time under the communist regime installed by the Soviets, fact that led to the removal of any Hungarian names.  The club\\'s name, as well as the crest, were frequently changed, not less than five times in the next 20 years. Some of them were lost in time, but for example, between 1951 and 1958, when the club was known under the name of Progresul Oradea used a triangular logo, with a bleu, blue and white water tower in the middle. On the top of the crest appeared the name of the club, in red colour. Ext'"
      ]
     },
     "execution_count": 97,
     "metadata": {},
     "output_type": "execute_result"
    }
   ],
   "source": [
    "qnode2description[list(qnode2description.keys())[-2]]"
   ]
  },
  {
   "cell_type": "code",
   "execution_count": 43,
   "id": "352a5c0f",
   "metadata": {},
   "outputs": [
    {
     "ename": "UnicodeEncodeError",
     "evalue": "'ascii' codec can't encode character '\\u2013' in position 18: ordinal not in range(128)",
     "output_type": "error",
     "traceback": [
      "\u001b[0;31m---------------------------------------------------------------------------\u001b[0m",
      "\u001b[0;31mUnicodeEncodeError\u001b[0m                        Traceback (most recent call last)",
      "\u001b[0;32m/var/folders/27/fcv785895zb4wczv3dzgn3gh0000gn/T/ipykernel_60859/1514673383.py\u001b[0m in \u001b[0;36m<module>\u001b[0;34m\u001b[0m\n\u001b[0;32m----> 1\u001b[0;31m \u001b[0murlopen\u001b[0m\u001b[0;34m(\u001b[0m\u001b[0;34m'https://en.wikipedia.org/wiki/Hincapie–Leomo_p/b_BMC'\u001b[0m\u001b[0;34m)\u001b[0m\u001b[0;34m\u001b[0m\u001b[0;34m\u001b[0m\u001b[0m\n\u001b[0m",
      "\u001b[0;32m/opt/anaconda3/envs/jaeyoung/lib/python3.7/urllib/request.py\u001b[0m in \u001b[0;36murlopen\u001b[0;34m(url, data, timeout, cafile, capath, cadefault, context)\u001b[0m\n\u001b[1;32m    220\u001b[0m     \u001b[0;32melse\u001b[0m\u001b[0;34m:\u001b[0m\u001b[0;34m\u001b[0m\u001b[0;34m\u001b[0m\u001b[0m\n\u001b[1;32m    221\u001b[0m         \u001b[0mopener\u001b[0m \u001b[0;34m=\u001b[0m \u001b[0m_opener\u001b[0m\u001b[0;34m\u001b[0m\u001b[0;34m\u001b[0m\u001b[0m\n\u001b[0;32m--> 222\u001b[0;31m     \u001b[0;32mreturn\u001b[0m \u001b[0mopener\u001b[0m\u001b[0;34m.\u001b[0m\u001b[0mopen\u001b[0m\u001b[0;34m(\u001b[0m\u001b[0murl\u001b[0m\u001b[0;34m,\u001b[0m \u001b[0mdata\u001b[0m\u001b[0;34m,\u001b[0m \u001b[0mtimeout\u001b[0m\u001b[0;34m)\u001b[0m\u001b[0;34m\u001b[0m\u001b[0;34m\u001b[0m\u001b[0m\n\u001b[0m\u001b[1;32m    223\u001b[0m \u001b[0;34m\u001b[0m\u001b[0m\n\u001b[1;32m    224\u001b[0m \u001b[0;32mdef\u001b[0m \u001b[0minstall_opener\u001b[0m\u001b[0;34m(\u001b[0m\u001b[0mopener\u001b[0m\u001b[0;34m)\u001b[0m\u001b[0;34m:\u001b[0m\u001b[0;34m\u001b[0m\u001b[0;34m\u001b[0m\u001b[0m\n",
      "\u001b[0;32m/opt/anaconda3/envs/jaeyoung/lib/python3.7/urllib/request.py\u001b[0m in \u001b[0;36mopen\u001b[0;34m(self, fullurl, data, timeout)\u001b[0m\n\u001b[1;32m    523\u001b[0m             \u001b[0mreq\u001b[0m \u001b[0;34m=\u001b[0m \u001b[0mmeth\u001b[0m\u001b[0;34m(\u001b[0m\u001b[0mreq\u001b[0m\u001b[0;34m)\u001b[0m\u001b[0;34m\u001b[0m\u001b[0;34m\u001b[0m\u001b[0m\n\u001b[1;32m    524\u001b[0m \u001b[0;34m\u001b[0m\u001b[0m\n\u001b[0;32m--> 525\u001b[0;31m         \u001b[0mresponse\u001b[0m \u001b[0;34m=\u001b[0m \u001b[0mself\u001b[0m\u001b[0;34m.\u001b[0m\u001b[0m_open\u001b[0m\u001b[0;34m(\u001b[0m\u001b[0mreq\u001b[0m\u001b[0;34m,\u001b[0m \u001b[0mdata\u001b[0m\u001b[0;34m)\u001b[0m\u001b[0;34m\u001b[0m\u001b[0;34m\u001b[0m\u001b[0m\n\u001b[0m\u001b[1;32m    526\u001b[0m \u001b[0;34m\u001b[0m\u001b[0m\n\u001b[1;32m    527\u001b[0m         \u001b[0;31m# post-process response\u001b[0m\u001b[0;34m\u001b[0m\u001b[0;34m\u001b[0m\u001b[0;34m\u001b[0m\u001b[0m\n",
      "\u001b[0;32m/opt/anaconda3/envs/jaeyoung/lib/python3.7/urllib/request.py\u001b[0m in \u001b[0;36m_open\u001b[0;34m(self, req, data)\u001b[0m\n\u001b[1;32m    541\u001b[0m         \u001b[0mprotocol\u001b[0m \u001b[0;34m=\u001b[0m \u001b[0mreq\u001b[0m\u001b[0;34m.\u001b[0m\u001b[0mtype\u001b[0m\u001b[0;34m\u001b[0m\u001b[0;34m\u001b[0m\u001b[0m\n\u001b[1;32m    542\u001b[0m         result = self._call_chain(self.handle_open, protocol, protocol +\n\u001b[0;32m--> 543\u001b[0;31m                                   '_open', req)\n\u001b[0m\u001b[1;32m    544\u001b[0m         \u001b[0;32mif\u001b[0m \u001b[0mresult\u001b[0m\u001b[0;34m:\u001b[0m\u001b[0;34m\u001b[0m\u001b[0;34m\u001b[0m\u001b[0m\n\u001b[1;32m    545\u001b[0m             \u001b[0;32mreturn\u001b[0m \u001b[0mresult\u001b[0m\u001b[0;34m\u001b[0m\u001b[0;34m\u001b[0m\u001b[0m\n",
      "\u001b[0;32m/opt/anaconda3/envs/jaeyoung/lib/python3.7/urllib/request.py\u001b[0m in \u001b[0;36m_call_chain\u001b[0;34m(self, chain, kind, meth_name, *args)\u001b[0m\n\u001b[1;32m    501\u001b[0m         \u001b[0;32mfor\u001b[0m \u001b[0mhandler\u001b[0m \u001b[0;32min\u001b[0m \u001b[0mhandlers\u001b[0m\u001b[0;34m:\u001b[0m\u001b[0;34m\u001b[0m\u001b[0;34m\u001b[0m\u001b[0m\n\u001b[1;32m    502\u001b[0m             \u001b[0mfunc\u001b[0m \u001b[0;34m=\u001b[0m \u001b[0mgetattr\u001b[0m\u001b[0;34m(\u001b[0m\u001b[0mhandler\u001b[0m\u001b[0;34m,\u001b[0m \u001b[0mmeth_name\u001b[0m\u001b[0;34m)\u001b[0m\u001b[0;34m\u001b[0m\u001b[0;34m\u001b[0m\u001b[0m\n\u001b[0;32m--> 503\u001b[0;31m             \u001b[0mresult\u001b[0m \u001b[0;34m=\u001b[0m \u001b[0mfunc\u001b[0m\u001b[0;34m(\u001b[0m\u001b[0;34m*\u001b[0m\u001b[0margs\u001b[0m\u001b[0;34m)\u001b[0m\u001b[0;34m\u001b[0m\u001b[0;34m\u001b[0m\u001b[0m\n\u001b[0m\u001b[1;32m    504\u001b[0m             \u001b[0;32mif\u001b[0m \u001b[0mresult\u001b[0m \u001b[0;32mis\u001b[0m \u001b[0;32mnot\u001b[0m \u001b[0;32mNone\u001b[0m\u001b[0;34m:\u001b[0m\u001b[0;34m\u001b[0m\u001b[0;34m\u001b[0m\u001b[0m\n\u001b[1;32m    505\u001b[0m                 \u001b[0;32mreturn\u001b[0m \u001b[0mresult\u001b[0m\u001b[0;34m\u001b[0m\u001b[0;34m\u001b[0m\u001b[0m\n",
      "\u001b[0;32m/opt/anaconda3/envs/jaeyoung/lib/python3.7/urllib/request.py\u001b[0m in \u001b[0;36mhttps_open\u001b[0;34m(self, req)\u001b[0m\n\u001b[1;32m   1360\u001b[0m         \u001b[0;32mdef\u001b[0m \u001b[0mhttps_open\u001b[0m\u001b[0;34m(\u001b[0m\u001b[0mself\u001b[0m\u001b[0;34m,\u001b[0m \u001b[0mreq\u001b[0m\u001b[0;34m)\u001b[0m\u001b[0;34m:\u001b[0m\u001b[0;34m\u001b[0m\u001b[0;34m\u001b[0m\u001b[0m\n\u001b[1;32m   1361\u001b[0m             return self.do_open(http.client.HTTPSConnection, req,\n\u001b[0;32m-> 1362\u001b[0;31m                 context=self._context, check_hostname=self._check_hostname)\n\u001b[0m\u001b[1;32m   1363\u001b[0m \u001b[0;34m\u001b[0m\u001b[0m\n\u001b[1;32m   1364\u001b[0m         \u001b[0mhttps_request\u001b[0m \u001b[0;34m=\u001b[0m \u001b[0mAbstractHTTPHandler\u001b[0m\u001b[0;34m.\u001b[0m\u001b[0mdo_request_\u001b[0m\u001b[0;34m\u001b[0m\u001b[0;34m\u001b[0m\u001b[0m\n",
      "\u001b[0;32m/opt/anaconda3/envs/jaeyoung/lib/python3.7/urllib/request.py\u001b[0m in \u001b[0;36mdo_open\u001b[0;34m(self, http_class, req, **http_conn_args)\u001b[0m\n\u001b[1;32m   1317\u001b[0m             \u001b[0;32mtry\u001b[0m\u001b[0;34m:\u001b[0m\u001b[0;34m\u001b[0m\u001b[0;34m\u001b[0m\u001b[0m\n\u001b[1;32m   1318\u001b[0m                 h.request(req.get_method(), req.selector, req.data, headers,\n\u001b[0;32m-> 1319\u001b[0;31m                           encode_chunked=req.has_header('Transfer-encoding'))\n\u001b[0m\u001b[1;32m   1320\u001b[0m             \u001b[0;32mexcept\u001b[0m \u001b[0mOSError\u001b[0m \u001b[0;32mas\u001b[0m \u001b[0merr\u001b[0m\u001b[0;34m:\u001b[0m \u001b[0;31m# timeout error\u001b[0m\u001b[0;34m\u001b[0m\u001b[0;34m\u001b[0m\u001b[0m\n\u001b[1;32m   1321\u001b[0m                 \u001b[0;32mraise\u001b[0m \u001b[0mURLError\u001b[0m\u001b[0;34m(\u001b[0m\u001b[0merr\u001b[0m\u001b[0;34m)\u001b[0m\u001b[0;34m\u001b[0m\u001b[0;34m\u001b[0m\u001b[0m\n",
      "\u001b[0;32m/opt/anaconda3/envs/jaeyoung/lib/python3.7/http/client.py\u001b[0m in \u001b[0;36mrequest\u001b[0;34m(self, method, url, body, headers, encode_chunked)\u001b[0m\n\u001b[1;32m   1250\u001b[0m                 encode_chunked=False):\n\u001b[1;32m   1251\u001b[0m         \u001b[0;34m\"\"\"Send a complete request to the server.\"\"\"\u001b[0m\u001b[0;34m\u001b[0m\u001b[0;34m\u001b[0m\u001b[0m\n\u001b[0;32m-> 1252\u001b[0;31m         \u001b[0mself\u001b[0m\u001b[0;34m.\u001b[0m\u001b[0m_send_request\u001b[0m\u001b[0;34m(\u001b[0m\u001b[0mmethod\u001b[0m\u001b[0;34m,\u001b[0m \u001b[0murl\u001b[0m\u001b[0;34m,\u001b[0m \u001b[0mbody\u001b[0m\u001b[0;34m,\u001b[0m \u001b[0mheaders\u001b[0m\u001b[0;34m,\u001b[0m \u001b[0mencode_chunked\u001b[0m\u001b[0;34m)\u001b[0m\u001b[0;34m\u001b[0m\u001b[0;34m\u001b[0m\u001b[0m\n\u001b[0m\u001b[1;32m   1253\u001b[0m \u001b[0;34m\u001b[0m\u001b[0m\n\u001b[1;32m   1254\u001b[0m     \u001b[0;32mdef\u001b[0m \u001b[0m_send_request\u001b[0m\u001b[0;34m(\u001b[0m\u001b[0mself\u001b[0m\u001b[0;34m,\u001b[0m \u001b[0mmethod\u001b[0m\u001b[0;34m,\u001b[0m \u001b[0murl\u001b[0m\u001b[0;34m,\u001b[0m \u001b[0mbody\u001b[0m\u001b[0;34m,\u001b[0m \u001b[0mheaders\u001b[0m\u001b[0;34m,\u001b[0m \u001b[0mencode_chunked\u001b[0m\u001b[0;34m)\u001b[0m\u001b[0;34m:\u001b[0m\u001b[0;34m\u001b[0m\u001b[0;34m\u001b[0m\u001b[0m\n",
      "\u001b[0;32m/opt/anaconda3/envs/jaeyoung/lib/python3.7/http/client.py\u001b[0m in \u001b[0;36m_send_request\u001b[0;34m(self, method, url, body, headers, encode_chunked)\u001b[0m\n\u001b[1;32m   1261\u001b[0m             \u001b[0mskips\u001b[0m\u001b[0;34m[\u001b[0m\u001b[0;34m'skip_accept_encoding'\u001b[0m\u001b[0;34m]\u001b[0m \u001b[0;34m=\u001b[0m \u001b[0;36m1\u001b[0m\u001b[0;34m\u001b[0m\u001b[0;34m\u001b[0m\u001b[0m\n\u001b[1;32m   1262\u001b[0m \u001b[0;34m\u001b[0m\u001b[0m\n\u001b[0;32m-> 1263\u001b[0;31m         \u001b[0mself\u001b[0m\u001b[0;34m.\u001b[0m\u001b[0mputrequest\u001b[0m\u001b[0;34m(\u001b[0m\u001b[0mmethod\u001b[0m\u001b[0;34m,\u001b[0m \u001b[0murl\u001b[0m\u001b[0;34m,\u001b[0m \u001b[0;34m**\u001b[0m\u001b[0mskips\u001b[0m\u001b[0;34m)\u001b[0m\u001b[0;34m\u001b[0m\u001b[0;34m\u001b[0m\u001b[0m\n\u001b[0m\u001b[1;32m   1264\u001b[0m \u001b[0;34m\u001b[0m\u001b[0m\n\u001b[1;32m   1265\u001b[0m         \u001b[0;31m# chunked encoding will happen if HTTP/1.1 is used and either\u001b[0m\u001b[0;34m\u001b[0m\u001b[0;34m\u001b[0m\u001b[0;34m\u001b[0m\u001b[0m\n",
      "\u001b[0;32m/opt/anaconda3/envs/jaeyoung/lib/python3.7/http/client.py\u001b[0m in \u001b[0;36mputrequest\u001b[0;34m(self, method, url, skip_host, skip_accept_encoding)\u001b[0m\n\u001b[1;32m   1116\u001b[0m         \u001b[0mrequest\u001b[0m \u001b[0;34m=\u001b[0m \u001b[0;34m'%s %s %s'\u001b[0m \u001b[0;34m%\u001b[0m \u001b[0;34m(\u001b[0m\u001b[0mmethod\u001b[0m\u001b[0;34m,\u001b[0m \u001b[0murl\u001b[0m\u001b[0;34m,\u001b[0m \u001b[0mself\u001b[0m\u001b[0;34m.\u001b[0m\u001b[0m_http_vsn_str\u001b[0m\u001b[0;34m)\u001b[0m\u001b[0;34m\u001b[0m\u001b[0;34m\u001b[0m\u001b[0m\n\u001b[1;32m   1117\u001b[0m \u001b[0;34m\u001b[0m\u001b[0m\n\u001b[0;32m-> 1118\u001b[0;31m         \u001b[0mself\u001b[0m\u001b[0;34m.\u001b[0m\u001b[0m_output\u001b[0m\u001b[0;34m(\u001b[0m\u001b[0mself\u001b[0m\u001b[0;34m.\u001b[0m\u001b[0m_encode_request\u001b[0m\u001b[0;34m(\u001b[0m\u001b[0mrequest\u001b[0m\u001b[0;34m)\u001b[0m\u001b[0;34m)\u001b[0m\u001b[0;34m\u001b[0m\u001b[0;34m\u001b[0m\u001b[0m\n\u001b[0m\u001b[1;32m   1119\u001b[0m \u001b[0;34m\u001b[0m\u001b[0m\n\u001b[1;32m   1120\u001b[0m         \u001b[0;32mif\u001b[0m \u001b[0mself\u001b[0m\u001b[0;34m.\u001b[0m\u001b[0m_http_vsn\u001b[0m \u001b[0;34m==\u001b[0m \u001b[0;36m11\u001b[0m\u001b[0;34m:\u001b[0m\u001b[0;34m\u001b[0m\u001b[0;34m\u001b[0m\u001b[0m\n",
      "\u001b[0;32m/opt/anaconda3/envs/jaeyoung/lib/python3.7/http/client.py\u001b[0m in \u001b[0;36m_encode_request\u001b[0;34m(self, request)\u001b[0m\n\u001b[1;32m   1196\u001b[0m     \u001b[0;32mdef\u001b[0m \u001b[0m_encode_request\u001b[0m\u001b[0;34m(\u001b[0m\u001b[0mself\u001b[0m\u001b[0;34m,\u001b[0m \u001b[0mrequest\u001b[0m\u001b[0;34m)\u001b[0m\u001b[0;34m:\u001b[0m\u001b[0;34m\u001b[0m\u001b[0;34m\u001b[0m\u001b[0m\n\u001b[1;32m   1197\u001b[0m         \u001b[0;31m# ASCII also helps prevent CVE-2019-9740.\u001b[0m\u001b[0;34m\u001b[0m\u001b[0;34m\u001b[0m\u001b[0;34m\u001b[0m\u001b[0m\n\u001b[0;32m-> 1198\u001b[0;31m         \u001b[0;32mreturn\u001b[0m \u001b[0mrequest\u001b[0m\u001b[0;34m.\u001b[0m\u001b[0mencode\u001b[0m\u001b[0;34m(\u001b[0m\u001b[0;34m'ascii'\u001b[0m\u001b[0;34m)\u001b[0m\u001b[0;34m\u001b[0m\u001b[0;34m\u001b[0m\u001b[0m\n\u001b[0m\u001b[1;32m   1199\u001b[0m \u001b[0;34m\u001b[0m\u001b[0m\n\u001b[1;32m   1200\u001b[0m     \u001b[0;32mdef\u001b[0m \u001b[0m_validate_path\u001b[0m\u001b[0;34m(\u001b[0m\u001b[0mself\u001b[0m\u001b[0;34m,\u001b[0m \u001b[0murl\u001b[0m\u001b[0;34m)\u001b[0m\u001b[0;34m:\u001b[0m\u001b[0;34m\u001b[0m\u001b[0;34m\u001b[0m\u001b[0m\n",
      "\u001b[0;31mUnicodeEncodeError\u001b[0m: 'ascii' codec can't encode character '\\u2013' in position 18: ordinal not in range(128)"
     ]
    }
   ],
   "source": [
    "urlopen('https://en.wikipedia.org/wiki/Hincapie–Leomo_p/b_BMC')"
   ]
  },
  {
   "cell_type": "code",
   "execution_count": null,
   "id": "fbb1b550",
   "metadata": {},
   "outputs": [],
   "source": [
    "6474"
   ]
  },
  {
   "cell_type": "code",
   "execution_count": null,
   "id": "43f6dc12",
   "metadata": {},
   "outputs": [],
   "source": [
    "5727"
   ]
  },
  {
   "cell_type": "code",
   "execution_count": null,
   "id": "58f589e8",
   "metadata": {},
   "outputs": [],
   "source": [
    "1765-1489"
   ]
  },
  {
   "cell_type": "code",
   "execution_count": 84,
   "id": "5732b468",
   "metadata": {},
   "outputs": [],
   "source": [
    "import pickle\n",
    "with open('qnode2description.data', 'rb') as f:\n",
    "    d = pickle.load(f)"
   ]
  },
  {
   "cell_type": "code",
   "execution_count": 85,
   "id": "d4d6c02a",
   "metadata": {},
   "outputs": [
    {
     "data": {
      "text/plain": [
       "19213"
      ]
     },
     "execution_count": 85,
     "metadata": {},
     "output_type": "execute_result"
    }
   ],
   "source": [
    "len(d)"
   ]
  },
  {
   "cell_type": "code",
   "execution_count": 68,
   "id": "ec9ac2d8",
   "metadata": {},
   "outputs": [
    {
     "ename": "TypeError",
     "evalue": "'dict_keys' object is not subscriptable",
     "output_type": "error",
     "traceback": [
      "\u001b[0;31m---------------------------------------------------------------------------\u001b[0m",
      "\u001b[0;31mTypeError\u001b[0m                                 Traceback (most recent call last)",
      "\u001b[0;32m/var/folders/27/fcv785895zb4wczv3dzgn3gh0000gn/T/ipykernel_60859/3616878799.py\u001b[0m in \u001b[0;36m<module>\u001b[0;34m\u001b[0m\n\u001b[0;32m----> 1\u001b[0;31m \u001b[0md\u001b[0m\u001b[0;34m.\u001b[0m\u001b[0mkeys\u001b[0m\u001b[0;34m(\u001b[0m\u001b[0;34m)\u001b[0m\u001b[0;34m[\u001b[0m\u001b[0;36m0\u001b[0m\u001b[0;34m]\u001b[0m\u001b[0;34m\u001b[0m\u001b[0;34m\u001b[0m\u001b[0m\n\u001b[0m",
      "\u001b[0;31mTypeError\u001b[0m: 'dict_keys' object is not subscriptable"
     ]
    }
   ],
   "source": [
    "d"
   ]
  },
  {
   "cell_type": "code",
   "execution_count": 69,
   "id": "533dec1f",
   "metadata": {},
   "outputs": [],
   "source": [
    "d['Q796293']"
   ]
  },
  {
   "cell_type": "code",
   "execution_count": null,
   "id": "081d45b8",
   "metadata": {},
   "outputs": [],
   "source": []
  }
 ],
 "metadata": {
  "kernelspec": {
   "display_name": "Python 3",
   "language": "python",
   "name": "python3"
  },
  "language_info": {
   "codemirror_mode": {
    "name": "ipython",
    "version": 3
   },
   "file_extension": ".py",
   "mimetype": "text/x-python",
   "name": "python",
   "nbconvert_exporter": "python",
   "pygments_lexer": "ipython3",
   "version": "3.7.7"
  }
 },
 "nbformat": 4,
 "nbformat_minor": 5
}
